{
  "cells": [
    {
      "cell_type": "markdown",
      "metadata": {
        "id": "view-in-github",
        "colab_type": "text"
      },
      "source": [
        "<a href=\"https://colab.research.google.com/github/deviayu05/FinalProject/blob/main/Human_Resource.ipynb\" target=\"_parent\"><img src=\"https://colab.research.google.com/assets/colab-badge.svg\" alt=\"Open In Colab\"/></a>"
      ]
    },
    {
      "cell_type": "markdown",
      "metadata": {
        "id": "jPF5ZR3wpTek"
      },
      "source": [
        "# **Prediction Faktor Penyebab Rendahnya Tingkat Kedisiplinan Karyawan Perusahaan The Look E-Commerce**\n",
        "\n",
        "\n",
        "*   Devi Ayu Rachmawati (DBA2304424) - Kelp.149\n",
        "\n"
      ]
    },
    {
      "cell_type": "markdown",
      "metadata": {
        "id": "o4KEvTnoqH8a"
      },
      "source": [
        "## **Load Library & Datasets**"
      ]
    },
    {
      "cell_type": "markdown",
      "metadata": {
        "id": "468LQAmiqSil"
      },
      "source": [
        "**Library**"
      ]
    },
    {
      "cell_type": "code",
      "execution_count": null,
      "metadata": {
        "id": "RQwE0x12o3ER"
      },
      "outputs": [],
      "source": [
        "# Import all the required libraries\n",
        "import pandas as pd\n",
        "import numpy as np\n",
        "\n",
        "#----- for preprocessing\n",
        "from sklearn.preprocessing import Normalizer\n",
        "from sklearn.preprocessing import StandardScaler\n",
        "\n",
        "#---- for model building\n",
        "import sklearn\n",
        "from sklearn.linear_model import LinearRegression\n",
        "from sklearn.linear_model import Lasso\n",
        "from sklearn.tree import DecisionTreeRegressor\n",
        "from sklearn.ensemble import RandomForestRegressor\n",
        "from sklearn.ensemble import GradientBoostingRegressor\n",
        "\n",
        "\n",
        "#---- for visualization---\n",
        "import matplotlib.pyplot as plt\n",
        "import seaborn as sns\n",
        "\n",
        "#------ for model evaluation -----\n",
        "from sklearn.metrics import mean_squared_error\n",
        "from sklearn.metrics import mean_absolute_error\n",
        "from sklearn.metrics import r2_score\n",
        "\n",
        "#---- For handling warnings\n",
        "import sys\n",
        "if not sys.warnoptions:\n",
        "    import warnings\n",
        "    warnings.simplefilter(\"ignore\")\n",
        "\n",
        "#--- For split data\n",
        "from sklearn.model_selection import train_test_split"
      ]
    },
    {
      "cell_type": "markdown",
      "metadata": {
        "id": "7WIYYcYKqanK"
      },
      "source": [
        "**Datasets**"
      ]
    },
    {
      "cell_type": "code",
      "execution_count": null,
      "metadata": {
        "id": "8mS_k51jqiiB"
      },
      "outputs": [],
      "source": [
        "# Analisi yang dilakukan oleh departemen human resource menggunakan dataset \"employees\" sebagai primary dataset dan \"distribution_centers\" sebagai secondary dataset\n",
        "# Kedua dataset telah digabungkan menggunakan fungsi Right Join melalui Postgresql terlebih dahulu, kemudian diekspor dalam bentuk file CSV\n",
        "df = pd.read_csv('/content/drive/MyDrive/HumanResource/datasetHR.csv')"
      ]
    },
    {
      "cell_type": "markdown",
      "metadata": {
        "id": "aQlqucJ4tY-f"
      },
      "source": [
        "## **Data Cleaning**"
      ]
    },
    {
      "cell_type": "code",
      "execution_count": null,
      "metadata": {
        "colab": {
          "base_uri": "https://localhost:8080/"
        },
        "id": "XYj1fYbAtmgl",
        "outputId": "b6a76e9a-b193-4a23-9272-f03154d4433c"
      },
      "outputs": [
        {
          "output_type": "execute_result",
          "data": {
            "text/plain": [
              "     Fisrt_Name Last_Name Gender        Age  Length_Service  Absent_Hours  \\\n",
              "0     Gutierrez     Molly      F  32.028816        6.018478     36.577306   \n",
              "1      Hardwick   Stephen      M  40.320902        5.532445     30.165072   \n",
              "2       Delgado   Chester      M  48.822047        4.389973     83.807798   \n",
              "3         Simon     Irene      F  44.599357        3.081736     70.020165   \n",
              "4      Delvalle    Edward      M  35.697876        3.619091      0.000000   \n",
              "...         ...       ...    ...        ...             ...           ...   \n",
              "8331   Coniglio    Bianca      F  46.057544        4.838288     93.665111   \n",
              "8332        Cox    Jimmie      M  34.455490        2.427274      0.000000   \n",
              "8333    Hawkins      Mary      F  58.347160        4.009393    176.356940   \n",
              "8334    Proctor   Theresa      F  43.340616        6.154837     60.321917   \n",
              "8335     Salter   Charles      M  46.192782        5.174722    112.023389   \n",
              "\n",
              "      distribution_centers_id  id             name  latitude  longitude  \n",
              "0                           5   5   New Orleans LA   29.9500   -90.0667  \n",
              "1                           9   9    Charleston SC   32.7833   -79.9333  \n",
              "2                          10  10      Savannah GA   32.0167   -81.1167  \n",
              "3                           2   2       Chicago IL   41.8369   -87.6847  \n",
              "4                           4   4   Los Angeles CA   34.0500  -118.2500  \n",
              "...                       ...  ..              ...       ...        ...  \n",
              "8331                        9   9    Charleston SC   32.7833   -79.9333  \n",
              "8332                        1   1       Memphis TN   35.1174   -89.9711  \n",
              "8333                        9   9    Charleston SC   32.7833   -79.9333  \n",
              "8334                        7   7  Philadelphia PA   39.9500   -75.1667  \n",
              "8335                        2   2       Chicago IL   41.8369   -87.6847  \n",
              "\n",
              "[8336 rows x 11 columns]"
            ],
            "text/html": [
              "\n",
              "  <div id=\"df-4f7f3a99-ef08-4668-be38-e59db8d8a0b4\">\n",
              "    <div class=\"colab-df-container\">\n",
              "      <div>\n",
              "<style scoped>\n",
              "    .dataframe tbody tr th:only-of-type {\n",
              "        vertical-align: middle;\n",
              "    }\n",
              "\n",
              "    .dataframe tbody tr th {\n",
              "        vertical-align: top;\n",
              "    }\n",
              "\n",
              "    .dataframe thead th {\n",
              "        text-align: right;\n",
              "    }\n",
              "</style>\n",
              "<table border=\"1\" class=\"dataframe\">\n",
              "  <thead>\n",
              "    <tr style=\"text-align: right;\">\n",
              "      <th></th>\n",
              "      <th>Fisrt_Name</th>\n",
              "      <th>Last_Name</th>\n",
              "      <th>Gender</th>\n",
              "      <th>Age</th>\n",
              "      <th>Length_Service</th>\n",
              "      <th>Absent_Hours</th>\n",
              "      <th>distribution_centers_id</th>\n",
              "      <th>id</th>\n",
              "      <th>name</th>\n",
              "      <th>latitude</th>\n",
              "      <th>longitude</th>\n",
              "    </tr>\n",
              "  </thead>\n",
              "  <tbody>\n",
              "    <tr>\n",
              "      <th>0</th>\n",
              "      <td>Gutierrez</td>\n",
              "      <td>Molly</td>\n",
              "      <td>F</td>\n",
              "      <td>32.028816</td>\n",
              "      <td>6.018478</td>\n",
              "      <td>36.577306</td>\n",
              "      <td>5</td>\n",
              "      <td>5</td>\n",
              "      <td>New Orleans LA</td>\n",
              "      <td>29.9500</td>\n",
              "      <td>-90.0667</td>\n",
              "    </tr>\n",
              "    <tr>\n",
              "      <th>1</th>\n",
              "      <td>Hardwick</td>\n",
              "      <td>Stephen</td>\n",
              "      <td>M</td>\n",
              "      <td>40.320902</td>\n",
              "      <td>5.532445</td>\n",
              "      <td>30.165072</td>\n",
              "      <td>9</td>\n",
              "      <td>9</td>\n",
              "      <td>Charleston SC</td>\n",
              "      <td>32.7833</td>\n",
              "      <td>-79.9333</td>\n",
              "    </tr>\n",
              "    <tr>\n",
              "      <th>2</th>\n",
              "      <td>Delgado</td>\n",
              "      <td>Chester</td>\n",
              "      <td>M</td>\n",
              "      <td>48.822047</td>\n",
              "      <td>4.389973</td>\n",
              "      <td>83.807798</td>\n",
              "      <td>10</td>\n",
              "      <td>10</td>\n",
              "      <td>Savannah GA</td>\n",
              "      <td>32.0167</td>\n",
              "      <td>-81.1167</td>\n",
              "    </tr>\n",
              "    <tr>\n",
              "      <th>3</th>\n",
              "      <td>Simon</td>\n",
              "      <td>Irene</td>\n",
              "      <td>F</td>\n",
              "      <td>44.599357</td>\n",
              "      <td>3.081736</td>\n",
              "      <td>70.020165</td>\n",
              "      <td>2</td>\n",
              "      <td>2</td>\n",
              "      <td>Chicago IL</td>\n",
              "      <td>41.8369</td>\n",
              "      <td>-87.6847</td>\n",
              "    </tr>\n",
              "    <tr>\n",
              "      <th>4</th>\n",
              "      <td>Delvalle</td>\n",
              "      <td>Edward</td>\n",
              "      <td>M</td>\n",
              "      <td>35.697876</td>\n",
              "      <td>3.619091</td>\n",
              "      <td>0.000000</td>\n",
              "      <td>4</td>\n",
              "      <td>4</td>\n",
              "      <td>Los Angeles CA</td>\n",
              "      <td>34.0500</td>\n",
              "      <td>-118.2500</td>\n",
              "    </tr>\n",
              "    <tr>\n",
              "      <th>...</th>\n",
              "      <td>...</td>\n",
              "      <td>...</td>\n",
              "      <td>...</td>\n",
              "      <td>...</td>\n",
              "      <td>...</td>\n",
              "      <td>...</td>\n",
              "      <td>...</td>\n",
              "      <td>...</td>\n",
              "      <td>...</td>\n",
              "      <td>...</td>\n",
              "      <td>...</td>\n",
              "    </tr>\n",
              "    <tr>\n",
              "      <th>8331</th>\n",
              "      <td>Coniglio</td>\n",
              "      <td>Bianca</td>\n",
              "      <td>F</td>\n",
              "      <td>46.057544</td>\n",
              "      <td>4.838288</td>\n",
              "      <td>93.665111</td>\n",
              "      <td>9</td>\n",
              "      <td>9</td>\n",
              "      <td>Charleston SC</td>\n",
              "      <td>32.7833</td>\n",
              "      <td>-79.9333</td>\n",
              "    </tr>\n",
              "    <tr>\n",
              "      <th>8332</th>\n",
              "      <td>Cox</td>\n",
              "      <td>Jimmie</td>\n",
              "      <td>M</td>\n",
              "      <td>34.455490</td>\n",
              "      <td>2.427274</td>\n",
              "      <td>0.000000</td>\n",
              "      <td>1</td>\n",
              "      <td>1</td>\n",
              "      <td>Memphis TN</td>\n",
              "      <td>35.1174</td>\n",
              "      <td>-89.9711</td>\n",
              "    </tr>\n",
              "    <tr>\n",
              "      <th>8333</th>\n",
              "      <td>Hawkins</td>\n",
              "      <td>Mary</td>\n",
              "      <td>F</td>\n",
              "      <td>58.347160</td>\n",
              "      <td>4.009393</td>\n",
              "      <td>176.356940</td>\n",
              "      <td>9</td>\n",
              "      <td>9</td>\n",
              "      <td>Charleston SC</td>\n",
              "      <td>32.7833</td>\n",
              "      <td>-79.9333</td>\n",
              "    </tr>\n",
              "    <tr>\n",
              "      <th>8334</th>\n",
              "      <td>Proctor</td>\n",
              "      <td>Theresa</td>\n",
              "      <td>F</td>\n",
              "      <td>43.340616</td>\n",
              "      <td>6.154837</td>\n",
              "      <td>60.321917</td>\n",
              "      <td>7</td>\n",
              "      <td>7</td>\n",
              "      <td>Philadelphia PA</td>\n",
              "      <td>39.9500</td>\n",
              "      <td>-75.1667</td>\n",
              "    </tr>\n",
              "    <tr>\n",
              "      <th>8335</th>\n",
              "      <td>Salter</td>\n",
              "      <td>Charles</td>\n",
              "      <td>M</td>\n",
              "      <td>46.192782</td>\n",
              "      <td>5.174722</td>\n",
              "      <td>112.023389</td>\n",
              "      <td>2</td>\n",
              "      <td>2</td>\n",
              "      <td>Chicago IL</td>\n",
              "      <td>41.8369</td>\n",
              "      <td>-87.6847</td>\n",
              "    </tr>\n",
              "  </tbody>\n",
              "</table>\n",
              "<p>8336 rows × 11 columns</p>\n",
              "</div>\n",
              "      <button class=\"colab-df-convert\" onclick=\"convertToInteractive('df-4f7f3a99-ef08-4668-be38-e59db8d8a0b4')\"\n",
              "              title=\"Convert this dataframe to an interactive table.\"\n",
              "              style=\"display:none;\">\n",
              "        \n",
              "  <svg xmlns=\"http://www.w3.org/2000/svg\" height=\"24px\"viewBox=\"0 0 24 24\"\n",
              "       width=\"24px\">\n",
              "    <path d=\"M0 0h24v24H0V0z\" fill=\"none\"/>\n",
              "    <path d=\"M18.56 5.44l.94 2.06.94-2.06 2.06-.94-2.06-.94-.94-2.06-.94 2.06-2.06.94zm-11 1L8.5 8.5l.94-2.06 2.06-.94-2.06-.94L8.5 2.5l-.94 2.06-2.06.94zm10 10l.94 2.06.94-2.06 2.06-.94-2.06-.94-.94-2.06-.94 2.06-2.06.94z\"/><path d=\"M17.41 7.96l-1.37-1.37c-.4-.4-.92-.59-1.43-.59-.52 0-1.04.2-1.43.59L10.3 9.45l-7.72 7.72c-.78.78-.78 2.05 0 2.83L4 21.41c.39.39.9.59 1.41.59.51 0 1.02-.2 1.41-.59l7.78-7.78 2.81-2.81c.8-.78.8-2.07 0-2.86zM5.41 20L4 18.59l7.72-7.72 1.47 1.35L5.41 20z\"/>\n",
              "  </svg>\n",
              "      </button>\n",
              "      \n",
              "  <style>\n",
              "    .colab-df-container {\n",
              "      display:flex;\n",
              "      flex-wrap:wrap;\n",
              "      gap: 12px;\n",
              "    }\n",
              "\n",
              "    .colab-df-convert {\n",
              "      background-color: #E8F0FE;\n",
              "      border: none;\n",
              "      border-radius: 50%;\n",
              "      cursor: pointer;\n",
              "      display: none;\n",
              "      fill: #1967D2;\n",
              "      height: 32px;\n",
              "      padding: 0 0 0 0;\n",
              "      width: 32px;\n",
              "    }\n",
              "\n",
              "    .colab-df-convert:hover {\n",
              "      background-color: #E2EBFA;\n",
              "      box-shadow: 0px 1px 2px rgba(60, 64, 67, 0.3), 0px 1px 3px 1px rgba(60, 64, 67, 0.15);\n",
              "      fill: #174EA6;\n",
              "    }\n",
              "\n",
              "    [theme=dark] .colab-df-convert {\n",
              "      background-color: #3B4455;\n",
              "      fill: #D2E3FC;\n",
              "    }\n",
              "\n",
              "    [theme=dark] .colab-df-convert:hover {\n",
              "      background-color: #434B5C;\n",
              "      box-shadow: 0px 1px 3px 1px rgba(0, 0, 0, 0.15);\n",
              "      filter: drop-shadow(0px 1px 2px rgba(0, 0, 0, 0.3));\n",
              "      fill: #FFFFFF;\n",
              "    }\n",
              "  </style>\n",
              "\n",
              "      <script>\n",
              "        const buttonEl =\n",
              "          document.querySelector('#df-4f7f3a99-ef08-4668-be38-e59db8d8a0b4 button.colab-df-convert');\n",
              "        buttonEl.style.display =\n",
              "          google.colab.kernel.accessAllowed ? 'block' : 'none';\n",
              "\n",
              "        async function convertToInteractive(key) {\n",
              "          const element = document.querySelector('#df-4f7f3a99-ef08-4668-be38-e59db8d8a0b4');\n",
              "          const dataTable =\n",
              "            await google.colab.kernel.invokeFunction('convertToInteractive',\n",
              "                                                     [key], {});\n",
              "          if (!dataTable) return;\n",
              "\n",
              "          const docLinkHtml = 'Like what you see? Visit the ' +\n",
              "            '<a target=\"_blank\" href=https://colab.research.google.com/notebooks/data_table.ipynb>data table notebook</a>'\n",
              "            + ' to learn more about interactive tables.';\n",
              "          element.innerHTML = '';\n",
              "          dataTable['output_type'] = 'display_data';\n",
              "          await google.colab.output.renderOutput(dataTable, element);\n",
              "          const docLink = document.createElement('div');\n",
              "          docLink.innerHTML = docLinkHtml;\n",
              "          element.appendChild(docLink);\n",
              "        }\n",
              "      </script>\n",
              "    </div>\n",
              "  </div>\n",
              "  "
            ]
          },
          "metadata": {},
          "execution_count": 3
        }
      ],
      "source": [
        "# menampilkan 5 data teratas\n",
        "df"
      ]
    },
    {
      "cell_type": "code",
      "execution_count": null,
      "metadata": {
        "colab": {
          "base_uri": "https://localhost:8080/"
        },
        "id": "Uxv7DX_6wvSY",
        "outputId": "b8647672-72c1-4699-ecc3-5dc20ab8ecd9"
      },
      "outputs": [
        {
          "output_type": "execute_result",
          "data": {
            "text/plain": [
              "  Gender        Age  Length_Service  Absent_Hours  Distribution_Centers_Id  \\\n",
              "0      F  32.028816        6.018478     36.577306                        5   \n",
              "1      M  40.320902        5.532445     30.165072                        9   \n",
              "2      M  48.822047        4.389973     83.807798                       10   \n",
              "3      F  44.599357        3.081736     70.020165                        2   \n",
              "4      M  35.697876        3.619091      0.000000                        4   \n",
              "\n",
              "   Latitude  Longitude  \n",
              "0   29.9500   -90.0667  \n",
              "1   32.7833   -79.9333  \n",
              "2   32.0167   -81.1167  \n",
              "3   41.8369   -87.6847  \n",
              "4   34.0500  -118.2500  "
            ],
            "text/html": [
              "\n",
              "  <div id=\"df-97c070c0-1a62-417a-b1f7-46d81959f8b6\">\n",
              "    <div class=\"colab-df-container\">\n",
              "      <div>\n",
              "<style scoped>\n",
              "    .dataframe tbody tr th:only-of-type {\n",
              "        vertical-align: middle;\n",
              "    }\n",
              "\n",
              "    .dataframe tbody tr th {\n",
              "        vertical-align: top;\n",
              "    }\n",
              "\n",
              "    .dataframe thead th {\n",
              "        text-align: right;\n",
              "    }\n",
              "</style>\n",
              "<table border=\"1\" class=\"dataframe\">\n",
              "  <thead>\n",
              "    <tr style=\"text-align: right;\">\n",
              "      <th></th>\n",
              "      <th>Gender</th>\n",
              "      <th>Age</th>\n",
              "      <th>Length_Service</th>\n",
              "      <th>Absent_Hours</th>\n",
              "      <th>Distribution_Centers_Id</th>\n",
              "      <th>Latitude</th>\n",
              "      <th>Longitude</th>\n",
              "    </tr>\n",
              "  </thead>\n",
              "  <tbody>\n",
              "    <tr>\n",
              "      <th>0</th>\n",
              "      <td>F</td>\n",
              "      <td>32.028816</td>\n",
              "      <td>6.018478</td>\n",
              "      <td>36.577306</td>\n",
              "      <td>5</td>\n",
              "      <td>29.9500</td>\n",
              "      <td>-90.0667</td>\n",
              "    </tr>\n",
              "    <tr>\n",
              "      <th>1</th>\n",
              "      <td>M</td>\n",
              "      <td>40.320902</td>\n",
              "      <td>5.532445</td>\n",
              "      <td>30.165072</td>\n",
              "      <td>9</td>\n",
              "      <td>32.7833</td>\n",
              "      <td>-79.9333</td>\n",
              "    </tr>\n",
              "    <tr>\n",
              "      <th>2</th>\n",
              "      <td>M</td>\n",
              "      <td>48.822047</td>\n",
              "      <td>4.389973</td>\n",
              "      <td>83.807798</td>\n",
              "      <td>10</td>\n",
              "      <td>32.0167</td>\n",
              "      <td>-81.1167</td>\n",
              "    </tr>\n",
              "    <tr>\n",
              "      <th>3</th>\n",
              "      <td>F</td>\n",
              "      <td>44.599357</td>\n",
              "      <td>3.081736</td>\n",
              "      <td>70.020165</td>\n",
              "      <td>2</td>\n",
              "      <td>41.8369</td>\n",
              "      <td>-87.6847</td>\n",
              "    </tr>\n",
              "    <tr>\n",
              "      <th>4</th>\n",
              "      <td>M</td>\n",
              "      <td>35.697876</td>\n",
              "      <td>3.619091</td>\n",
              "      <td>0.000000</td>\n",
              "      <td>4</td>\n",
              "      <td>34.0500</td>\n",
              "      <td>-118.2500</td>\n",
              "    </tr>\n",
              "  </tbody>\n",
              "</table>\n",
              "</div>\n",
              "      <button class=\"colab-df-convert\" onclick=\"convertToInteractive('df-97c070c0-1a62-417a-b1f7-46d81959f8b6')\"\n",
              "              title=\"Convert this dataframe to an interactive table.\"\n",
              "              style=\"display:none;\">\n",
              "        \n",
              "  <svg xmlns=\"http://www.w3.org/2000/svg\" height=\"24px\"viewBox=\"0 0 24 24\"\n",
              "       width=\"24px\">\n",
              "    <path d=\"M0 0h24v24H0V0z\" fill=\"none\"/>\n",
              "    <path d=\"M18.56 5.44l.94 2.06.94-2.06 2.06-.94-2.06-.94-.94-2.06-.94 2.06-2.06.94zm-11 1L8.5 8.5l.94-2.06 2.06-.94-2.06-.94L8.5 2.5l-.94 2.06-2.06.94zm10 10l.94 2.06.94-2.06 2.06-.94-2.06-.94-.94-2.06-.94 2.06-2.06.94z\"/><path d=\"M17.41 7.96l-1.37-1.37c-.4-.4-.92-.59-1.43-.59-.52 0-1.04.2-1.43.59L10.3 9.45l-7.72 7.72c-.78.78-.78 2.05 0 2.83L4 21.41c.39.39.9.59 1.41.59.51 0 1.02-.2 1.41-.59l7.78-7.78 2.81-2.81c.8-.78.8-2.07 0-2.86zM5.41 20L4 18.59l7.72-7.72 1.47 1.35L5.41 20z\"/>\n",
              "  </svg>\n",
              "      </button>\n",
              "      \n",
              "  <style>\n",
              "    .colab-df-container {\n",
              "      display:flex;\n",
              "      flex-wrap:wrap;\n",
              "      gap: 12px;\n",
              "    }\n",
              "\n",
              "    .colab-df-convert {\n",
              "      background-color: #E8F0FE;\n",
              "      border: none;\n",
              "      border-radius: 50%;\n",
              "      cursor: pointer;\n",
              "      display: none;\n",
              "      fill: #1967D2;\n",
              "      height: 32px;\n",
              "      padding: 0 0 0 0;\n",
              "      width: 32px;\n",
              "    }\n",
              "\n",
              "    .colab-df-convert:hover {\n",
              "      background-color: #E2EBFA;\n",
              "      box-shadow: 0px 1px 2px rgba(60, 64, 67, 0.3), 0px 1px 3px 1px rgba(60, 64, 67, 0.15);\n",
              "      fill: #174EA6;\n",
              "    }\n",
              "\n",
              "    [theme=dark] .colab-df-convert {\n",
              "      background-color: #3B4455;\n",
              "      fill: #D2E3FC;\n",
              "    }\n",
              "\n",
              "    [theme=dark] .colab-df-convert:hover {\n",
              "      background-color: #434B5C;\n",
              "      box-shadow: 0px 1px 3px 1px rgba(0, 0, 0, 0.15);\n",
              "      filter: drop-shadow(0px 1px 2px rgba(0, 0, 0, 0.3));\n",
              "      fill: #FFFFFF;\n",
              "    }\n",
              "  </style>\n",
              "\n",
              "      <script>\n",
              "        const buttonEl =\n",
              "          document.querySelector('#df-97c070c0-1a62-417a-b1f7-46d81959f8b6 button.colab-df-convert');\n",
              "        buttonEl.style.display =\n",
              "          google.colab.kernel.accessAllowed ? 'block' : 'none';\n",
              "\n",
              "        async function convertToInteractive(key) {\n",
              "          const element = document.querySelector('#df-97c070c0-1a62-417a-b1f7-46d81959f8b6');\n",
              "          const dataTable =\n",
              "            await google.colab.kernel.invokeFunction('convertToInteractive',\n",
              "                                                     [key], {});\n",
              "          if (!dataTable) return;\n",
              "\n",
              "          const docLinkHtml = 'Like what you see? Visit the ' +\n",
              "            '<a target=\"_blank\" href=https://colab.research.google.com/notebooks/data_table.ipynb>data table notebook</a>'\n",
              "            + ' to learn more about interactive tables.';\n",
              "          element.innerHTML = '';\n",
              "          dataTable['output_type'] = 'display_data';\n",
              "          await google.colab.output.renderOutput(dataTable, element);\n",
              "          const docLink = document.createElement('div');\n",
              "          docLink.innerHTML = docLinkHtml;\n",
              "          element.appendChild(docLink);\n",
              "        }\n",
              "      </script>\n",
              "    </div>\n",
              "  </div>\n",
              "  "
            ]
          },
          "metadata": {},
          "execution_count": 4
        }
      ],
      "source": [
        "# Menghapus atributes yang tidak terpakai\n",
        "# Atributes Fisrt_Name, Last_Name, Latitude, Longitude, distribution_centers dan id akan dihapus\n",
        "# Mengganti semua nama atributes dengan huruf kapital\n",
        "\n",
        "df.drop(['Fisrt_Name', 'Last_Name', 'id', 'name'],axis=1,inplace=True)\n",
        "df.rename(\n",
        "    columns=({'distribution_centers_id':'Distribution_Centers_Id', 'latitude':'Latitude', 'longitude':'Longitude'}),\n",
        "          inplace=True\n",
        ")\n",
        "df.head()"
      ]
    },
    {
      "cell_type": "markdown",
      "metadata": {
        "id": "IqGuz7W8CJZK"
      },
      "source": [
        "\n",
        "\n",
        "**Notes :**\n",
        "\n",
        "*   Gender : jenis kelamin pegawai\n",
        "*   Age : usia pegawai\n",
        "*   Length_Service : lama pegawai bekerja diperusahaan The looker\n",
        "*   Absent_Hours : lama absen pegawai dalam satu tahun (jam)\n",
        "*   Distribution_Centers_Id : Id Distribution Centers\n",
        "*   Latitude : titik koordinat latitude\n",
        "*   Longitude : titik koordinat longitude"
      ]
    },
    {
      "cell_type": "code",
      "execution_count": null,
      "metadata": {
        "colab": {
          "base_uri": "https://localhost:8080/"
        },
        "id": "XK7PAZ3JuD-o",
        "outputId": "a9e8b36b-3589-49a5-b030-c0886873eace"
      },
      "outputs": [
        {
          "output_type": "stream",
          "name": "stdout",
          "text": [
            "(8336, 7)\n"
          ]
        }
      ],
      "source": [
        "# Menampilkan ukuran tabel setelah penghapusan atributes\n",
        "# Terdapat 8336 baris dan 11 kolom\n",
        "\n",
        "print(df.shape)"
      ]
    },
    {
      "cell_type": "code",
      "execution_count": null,
      "metadata": {
        "colab": {
          "base_uri": "https://localhost:8080/"
        },
        "id": "lVRLh3UhImwx",
        "outputId": "abff228f-bc89-453b-9efa-3ef5aa8a1034"
      },
      "outputs": [
        {
          "output_type": "execute_result",
          "data": {
            "text/plain": [
              "Gender                      object\n",
              "Age                        float64\n",
              "Length_Service             float64\n",
              "Absent_Hours               float64\n",
              "Distribution_Centers_Id      int64\n",
              "Latitude                   float64\n",
              "Longitude                  float64\n",
              "dtype: object"
            ]
          },
          "metadata": {},
          "execution_count": 6
        }
      ],
      "source": [
        "# Mengecek tipe data\n",
        "\n",
        "df.dtypes"
      ]
    },
    {
      "cell_type": "code",
      "execution_count": null,
      "metadata": {
        "colab": {
          "base_uri": "https://localhost:8080/"
        },
        "id": "rqUiSxg4ifHf",
        "outputId": "d347bdbe-b794-43a8-ab12-03bbf62335f7"
      },
      "outputs": [
        {
          "output_type": "execute_result",
          "data": {
            "text/plain": [
              "         Age  Length_Service  Absent_Hours  Distribution_Centers_Id  Latitude  \\\n",
              "0  32.028816        6.018478     36.577306                        5   29.9500   \n",
              "1  40.320902        5.532445     30.165072                        9   32.7833   \n",
              "2  48.822047        4.389973     83.807798                       10   32.0167   \n",
              "3  44.599357        3.081736     70.020165                        2   41.8369   \n",
              "4  35.697876        3.619091      0.000000                        4   34.0500   \n",
              "\n",
              "   Longitude  Gender_M  \n",
              "0   -90.0667         0  \n",
              "1   -79.9333         1  \n",
              "2   -81.1167         1  \n",
              "3   -87.6847         0  \n",
              "4  -118.2500         1  "
            ],
            "text/html": [
              "\n",
              "  <div id=\"df-6b75edd6-b216-4d3f-9cf5-663ef1fde0e6\">\n",
              "    <div class=\"colab-df-container\">\n",
              "      <div>\n",
              "<style scoped>\n",
              "    .dataframe tbody tr th:only-of-type {\n",
              "        vertical-align: middle;\n",
              "    }\n",
              "\n",
              "    .dataframe tbody tr th {\n",
              "        vertical-align: top;\n",
              "    }\n",
              "\n",
              "    .dataframe thead th {\n",
              "        text-align: right;\n",
              "    }\n",
              "</style>\n",
              "<table border=\"1\" class=\"dataframe\">\n",
              "  <thead>\n",
              "    <tr style=\"text-align: right;\">\n",
              "      <th></th>\n",
              "      <th>Age</th>\n",
              "      <th>Length_Service</th>\n",
              "      <th>Absent_Hours</th>\n",
              "      <th>Distribution_Centers_Id</th>\n",
              "      <th>Latitude</th>\n",
              "      <th>Longitude</th>\n",
              "      <th>Gender_M</th>\n",
              "    </tr>\n",
              "  </thead>\n",
              "  <tbody>\n",
              "    <tr>\n",
              "      <th>0</th>\n",
              "      <td>32.028816</td>\n",
              "      <td>6.018478</td>\n",
              "      <td>36.577306</td>\n",
              "      <td>5</td>\n",
              "      <td>29.9500</td>\n",
              "      <td>-90.0667</td>\n",
              "      <td>0</td>\n",
              "    </tr>\n",
              "    <tr>\n",
              "      <th>1</th>\n",
              "      <td>40.320902</td>\n",
              "      <td>5.532445</td>\n",
              "      <td>30.165072</td>\n",
              "      <td>9</td>\n",
              "      <td>32.7833</td>\n",
              "      <td>-79.9333</td>\n",
              "      <td>1</td>\n",
              "    </tr>\n",
              "    <tr>\n",
              "      <th>2</th>\n",
              "      <td>48.822047</td>\n",
              "      <td>4.389973</td>\n",
              "      <td>83.807798</td>\n",
              "      <td>10</td>\n",
              "      <td>32.0167</td>\n",
              "      <td>-81.1167</td>\n",
              "      <td>1</td>\n",
              "    </tr>\n",
              "    <tr>\n",
              "      <th>3</th>\n",
              "      <td>44.599357</td>\n",
              "      <td>3.081736</td>\n",
              "      <td>70.020165</td>\n",
              "      <td>2</td>\n",
              "      <td>41.8369</td>\n",
              "      <td>-87.6847</td>\n",
              "      <td>0</td>\n",
              "    </tr>\n",
              "    <tr>\n",
              "      <th>4</th>\n",
              "      <td>35.697876</td>\n",
              "      <td>3.619091</td>\n",
              "      <td>0.000000</td>\n",
              "      <td>4</td>\n",
              "      <td>34.0500</td>\n",
              "      <td>-118.2500</td>\n",
              "      <td>1</td>\n",
              "    </tr>\n",
              "  </tbody>\n",
              "</table>\n",
              "</div>\n",
              "      <button class=\"colab-df-convert\" onclick=\"convertToInteractive('df-6b75edd6-b216-4d3f-9cf5-663ef1fde0e6')\"\n",
              "              title=\"Convert this dataframe to an interactive table.\"\n",
              "              style=\"display:none;\">\n",
              "        \n",
              "  <svg xmlns=\"http://www.w3.org/2000/svg\" height=\"24px\"viewBox=\"0 0 24 24\"\n",
              "       width=\"24px\">\n",
              "    <path d=\"M0 0h24v24H0V0z\" fill=\"none\"/>\n",
              "    <path d=\"M18.56 5.44l.94 2.06.94-2.06 2.06-.94-2.06-.94-.94-2.06-.94 2.06-2.06.94zm-11 1L8.5 8.5l.94-2.06 2.06-.94-2.06-.94L8.5 2.5l-.94 2.06-2.06.94zm10 10l.94 2.06.94-2.06 2.06-.94-2.06-.94-.94-2.06-.94 2.06-2.06.94z\"/><path d=\"M17.41 7.96l-1.37-1.37c-.4-.4-.92-.59-1.43-.59-.52 0-1.04.2-1.43.59L10.3 9.45l-7.72 7.72c-.78.78-.78 2.05 0 2.83L4 21.41c.39.39.9.59 1.41.59.51 0 1.02-.2 1.41-.59l7.78-7.78 2.81-2.81c.8-.78.8-2.07 0-2.86zM5.41 20L4 18.59l7.72-7.72 1.47 1.35L5.41 20z\"/>\n",
              "  </svg>\n",
              "      </button>\n",
              "      \n",
              "  <style>\n",
              "    .colab-df-container {\n",
              "      display:flex;\n",
              "      flex-wrap:wrap;\n",
              "      gap: 12px;\n",
              "    }\n",
              "\n",
              "    .colab-df-convert {\n",
              "      background-color: #E8F0FE;\n",
              "      border: none;\n",
              "      border-radius: 50%;\n",
              "      cursor: pointer;\n",
              "      display: none;\n",
              "      fill: #1967D2;\n",
              "      height: 32px;\n",
              "      padding: 0 0 0 0;\n",
              "      width: 32px;\n",
              "    }\n",
              "\n",
              "    .colab-df-convert:hover {\n",
              "      background-color: #E2EBFA;\n",
              "      box-shadow: 0px 1px 2px rgba(60, 64, 67, 0.3), 0px 1px 3px 1px rgba(60, 64, 67, 0.15);\n",
              "      fill: #174EA6;\n",
              "    }\n",
              "\n",
              "    [theme=dark] .colab-df-convert {\n",
              "      background-color: #3B4455;\n",
              "      fill: #D2E3FC;\n",
              "    }\n",
              "\n",
              "    [theme=dark] .colab-df-convert:hover {\n",
              "      background-color: #434B5C;\n",
              "      box-shadow: 0px 1px 3px 1px rgba(0, 0, 0, 0.15);\n",
              "      filter: drop-shadow(0px 1px 2px rgba(0, 0, 0, 0.3));\n",
              "      fill: #FFFFFF;\n",
              "    }\n",
              "  </style>\n",
              "\n",
              "      <script>\n",
              "        const buttonEl =\n",
              "          document.querySelector('#df-6b75edd6-b216-4d3f-9cf5-663ef1fde0e6 button.colab-df-convert');\n",
              "        buttonEl.style.display =\n",
              "          google.colab.kernel.accessAllowed ? 'block' : 'none';\n",
              "\n",
              "        async function convertToInteractive(key) {\n",
              "          const element = document.querySelector('#df-6b75edd6-b216-4d3f-9cf5-663ef1fde0e6');\n",
              "          const dataTable =\n",
              "            await google.colab.kernel.invokeFunction('convertToInteractive',\n",
              "                                                     [key], {});\n",
              "          if (!dataTable) return;\n",
              "\n",
              "          const docLinkHtml = 'Like what you see? Visit the ' +\n",
              "            '<a target=\"_blank\" href=https://colab.research.google.com/notebooks/data_table.ipynb>data table notebook</a>'\n",
              "            + ' to learn more about interactive tables.';\n",
              "          element.innerHTML = '';\n",
              "          dataTable['output_type'] = 'display_data';\n",
              "          await google.colab.output.renderOutput(dataTable, element);\n",
              "          const docLink = document.createElement('div');\n",
              "          docLink.innerHTML = docLinkHtml;\n",
              "          element.appendChild(docLink);\n",
              "        }\n",
              "      </script>\n",
              "    </div>\n",
              "  </div>\n",
              "  "
            ]
          },
          "metadata": {},
          "execution_count": 7
        }
      ],
      "source": [
        "# Karena tipe data Gender adalah object, maka sesuai aturan Machine Learning akan diubah menjadi tipe data int/float\n",
        "# Menggunakan dummy encoding\n",
        "# 0 = Female\n",
        "# 1 = Male\n",
        "\n",
        "df = pd.get_dummies(df,drop_first=True)\n",
        "df.head()"
      ]
    },
    {
      "cell_type": "code",
      "execution_count": null,
      "metadata": {
        "id": "NpZrLrKyjqxU"
      },
      "outputs": [],
      "source": [
        "# merename atributes gender\n",
        "\n",
        "df.rename(\n",
        "    columns=({'Gender_M':'Gender'}),\n",
        "          inplace=True\n",
        ")"
      ]
    },
    {
      "cell_type": "code",
      "execution_count": null,
      "metadata": {
        "colab": {
          "base_uri": "https://localhost:8080/"
        },
        "id": "7nd4QyAtKtE6",
        "outputId": "1336f995-bed4-49d2-9eb3-208b15db12cf"
      },
      "outputs": [
        {
          "output_type": "execute_result",
          "data": {
            "text/plain": [
              "Age                        float64\n",
              "Length_Service             float64\n",
              "Absent_Hours               float64\n",
              "Distribution_Centers_Id      int64\n",
              "Latitude                   float64\n",
              "Longitude                  float64\n",
              "Gender                       uint8\n",
              "dtype: object"
            ]
          },
          "metadata": {},
          "execution_count": 9
        }
      ],
      "source": [
        "# Mengecek tipe data kembali dan memastikan sudah terganti\n",
        "\n",
        "df.dtypes"
      ]
    },
    {
      "cell_type": "code",
      "execution_count": null,
      "metadata": {
        "colab": {
          "base_uri": "https://localhost:8080/"
        },
        "id": "wpKbJr1Py9ga",
        "outputId": "a66d9563-e692-4b98-d600-9aa8e2264b34"
      },
      "outputs": [
        {
          "output_type": "execute_result",
          "data": {
            "text/plain": [
              "Age                        0\n",
              "Length_Service             0\n",
              "Absent_Hours               0\n",
              "Distribution_Centers_Id    0\n",
              "Latitude                   0\n",
              "Longitude                  0\n",
              "Gender                     0\n",
              "dtype: int64"
            ]
          },
          "metadata": {},
          "execution_count": 10
        }
      ],
      "source": [
        "# Mengecek missing values dan dapat dilihat bahwa tidak ada missing values\n",
        "\n",
        "df.isnull().sum()"
      ]
    },
    {
      "cell_type": "markdown",
      "metadata": {
        "id": "xQiNnC2BH3nH"
      },
      "source": [
        "## **Exploratory Data Analysis**"
      ]
    },
    {
      "cell_type": "code",
      "execution_count": null,
      "metadata": {
        "colab": {
          "base_uri": "https://localhost:8080/"
        },
        "id": "I6mPszz0IAOO",
        "outputId": "0cb94132-70b7-4036-eb00-ffe2ef5b2377"
      },
      "outputs": [
        {
          "output_type": "execute_result",
          "data": {
            "text/plain": [
              "         Age  Length_Service  Absent_Hours  Distribution_Centers_Id  Latitude  \\\n",
              "0  32.028816        6.018478     36.577306                        5   29.9500   \n",
              "1  40.320902        5.532445     30.165072                        9   32.7833   \n",
              "2  48.822047        4.389973     83.807798                       10   32.0167   \n",
              "3  44.599357        3.081736     70.020165                        2   41.8369   \n",
              "4  35.697876        3.619091      0.000000                        4   34.0500   \n",
              "\n",
              "   Longitude  Gender  \n",
              "0   -90.0667       0  \n",
              "1   -79.9333       1  \n",
              "2   -81.1167       1  \n",
              "3   -87.6847       0  \n",
              "4  -118.2500       1  "
            ],
            "text/html": [
              "\n",
              "  <div id=\"df-20f2daac-0713-4efe-bd52-cc2ec7cc6254\">\n",
              "    <div class=\"colab-df-container\">\n",
              "      <div>\n",
              "<style scoped>\n",
              "    .dataframe tbody tr th:only-of-type {\n",
              "        vertical-align: middle;\n",
              "    }\n",
              "\n",
              "    .dataframe tbody tr th {\n",
              "        vertical-align: top;\n",
              "    }\n",
              "\n",
              "    .dataframe thead th {\n",
              "        text-align: right;\n",
              "    }\n",
              "</style>\n",
              "<table border=\"1\" class=\"dataframe\">\n",
              "  <thead>\n",
              "    <tr style=\"text-align: right;\">\n",
              "      <th></th>\n",
              "      <th>Age</th>\n",
              "      <th>Length_Service</th>\n",
              "      <th>Absent_Hours</th>\n",
              "      <th>Distribution_Centers_Id</th>\n",
              "      <th>Latitude</th>\n",
              "      <th>Longitude</th>\n",
              "      <th>Gender</th>\n",
              "    </tr>\n",
              "  </thead>\n",
              "  <tbody>\n",
              "    <tr>\n",
              "      <th>0</th>\n",
              "      <td>32.028816</td>\n",
              "      <td>6.018478</td>\n",
              "      <td>36.577306</td>\n",
              "      <td>5</td>\n",
              "      <td>29.9500</td>\n",
              "      <td>-90.0667</td>\n",
              "      <td>0</td>\n",
              "    </tr>\n",
              "    <tr>\n",
              "      <th>1</th>\n",
              "      <td>40.320902</td>\n",
              "      <td>5.532445</td>\n",
              "      <td>30.165072</td>\n",
              "      <td>9</td>\n",
              "      <td>32.7833</td>\n",
              "      <td>-79.9333</td>\n",
              "      <td>1</td>\n",
              "    </tr>\n",
              "    <tr>\n",
              "      <th>2</th>\n",
              "      <td>48.822047</td>\n",
              "      <td>4.389973</td>\n",
              "      <td>83.807798</td>\n",
              "      <td>10</td>\n",
              "      <td>32.0167</td>\n",
              "      <td>-81.1167</td>\n",
              "      <td>1</td>\n",
              "    </tr>\n",
              "    <tr>\n",
              "      <th>3</th>\n",
              "      <td>44.599357</td>\n",
              "      <td>3.081736</td>\n",
              "      <td>70.020165</td>\n",
              "      <td>2</td>\n",
              "      <td>41.8369</td>\n",
              "      <td>-87.6847</td>\n",
              "      <td>0</td>\n",
              "    </tr>\n",
              "    <tr>\n",
              "      <th>4</th>\n",
              "      <td>35.697876</td>\n",
              "      <td>3.619091</td>\n",
              "      <td>0.000000</td>\n",
              "      <td>4</td>\n",
              "      <td>34.0500</td>\n",
              "      <td>-118.2500</td>\n",
              "      <td>1</td>\n",
              "    </tr>\n",
              "  </tbody>\n",
              "</table>\n",
              "</div>\n",
              "      <button class=\"colab-df-convert\" onclick=\"convertToInteractive('df-20f2daac-0713-4efe-bd52-cc2ec7cc6254')\"\n",
              "              title=\"Convert this dataframe to an interactive table.\"\n",
              "              style=\"display:none;\">\n",
              "        \n",
              "  <svg xmlns=\"http://www.w3.org/2000/svg\" height=\"24px\"viewBox=\"0 0 24 24\"\n",
              "       width=\"24px\">\n",
              "    <path d=\"M0 0h24v24H0V0z\" fill=\"none\"/>\n",
              "    <path d=\"M18.56 5.44l.94 2.06.94-2.06 2.06-.94-2.06-.94-.94-2.06-.94 2.06-2.06.94zm-11 1L8.5 8.5l.94-2.06 2.06-.94-2.06-.94L8.5 2.5l-.94 2.06-2.06.94zm10 10l.94 2.06.94-2.06 2.06-.94-2.06-.94-.94-2.06-.94 2.06-2.06.94z\"/><path d=\"M17.41 7.96l-1.37-1.37c-.4-.4-.92-.59-1.43-.59-.52 0-1.04.2-1.43.59L10.3 9.45l-7.72 7.72c-.78.78-.78 2.05 0 2.83L4 21.41c.39.39.9.59 1.41.59.51 0 1.02-.2 1.41-.59l7.78-7.78 2.81-2.81c.8-.78.8-2.07 0-2.86zM5.41 20L4 18.59l7.72-7.72 1.47 1.35L5.41 20z\"/>\n",
              "  </svg>\n",
              "      </button>\n",
              "      \n",
              "  <style>\n",
              "    .colab-df-container {\n",
              "      display:flex;\n",
              "      flex-wrap:wrap;\n",
              "      gap: 12px;\n",
              "    }\n",
              "\n",
              "    .colab-df-convert {\n",
              "      background-color: #E8F0FE;\n",
              "      border: none;\n",
              "      border-radius: 50%;\n",
              "      cursor: pointer;\n",
              "      display: none;\n",
              "      fill: #1967D2;\n",
              "      height: 32px;\n",
              "      padding: 0 0 0 0;\n",
              "      width: 32px;\n",
              "    }\n",
              "\n",
              "    .colab-df-convert:hover {\n",
              "      background-color: #E2EBFA;\n",
              "      box-shadow: 0px 1px 2px rgba(60, 64, 67, 0.3), 0px 1px 3px 1px rgba(60, 64, 67, 0.15);\n",
              "      fill: #174EA6;\n",
              "    }\n",
              "\n",
              "    [theme=dark] .colab-df-convert {\n",
              "      background-color: #3B4455;\n",
              "      fill: #D2E3FC;\n",
              "    }\n",
              "\n",
              "    [theme=dark] .colab-df-convert:hover {\n",
              "      background-color: #434B5C;\n",
              "      box-shadow: 0px 1px 3px 1px rgba(0, 0, 0, 0.15);\n",
              "      filter: drop-shadow(0px 1px 2px rgba(0, 0, 0, 0.3));\n",
              "      fill: #FFFFFF;\n",
              "    }\n",
              "  </style>\n",
              "\n",
              "      <script>\n",
              "        const buttonEl =\n",
              "          document.querySelector('#df-20f2daac-0713-4efe-bd52-cc2ec7cc6254 button.colab-df-convert');\n",
              "        buttonEl.style.display =\n",
              "          google.colab.kernel.accessAllowed ? 'block' : 'none';\n",
              "\n",
              "        async function convertToInteractive(key) {\n",
              "          const element = document.querySelector('#df-20f2daac-0713-4efe-bd52-cc2ec7cc6254');\n",
              "          const dataTable =\n",
              "            await google.colab.kernel.invokeFunction('convertToInteractive',\n",
              "                                                     [key], {});\n",
              "          if (!dataTable) return;\n",
              "\n",
              "          const docLinkHtml = 'Like what you see? Visit the ' +\n",
              "            '<a target=\"_blank\" href=https://colab.research.google.com/notebooks/data_table.ipynb>data table notebook</a>'\n",
              "            + ' to learn more about interactive tables.';\n",
              "          element.innerHTML = '';\n",
              "          dataTable['output_type'] = 'display_data';\n",
              "          await google.colab.output.renderOutput(dataTable, element);\n",
              "          const docLink = document.createElement('div');\n",
              "          docLink.innerHTML = docLinkHtml;\n",
              "          element.appendChild(docLink);\n",
              "        }\n",
              "      </script>\n",
              "    </div>\n",
              "  </div>\n",
              "  "
            ]
          },
          "metadata": {},
          "execution_count": 11
        }
      ],
      "source": [
        "# memperlihatkan n baris awal dari sebuah pandas dataframe (default n = 5)\n",
        "\n",
        "df.head()"
      ]
    },
    {
      "cell_type": "code",
      "execution_count": null,
      "metadata": {
        "colab": {
          "base_uri": "https://localhost:8080/"
        },
        "id": "rYa9p6znK0Gk",
        "outputId": "9a614965-61f8-420c-ebac-44abe6bd5518"
      },
      "outputs": [
        {
          "output_type": "execute_result",
          "data": {
            "text/plain": [
              "            Age  Length_Service  Absent_Hours  Distribution_Centers_Id  \\\n",
              "8331  46.057544        4.838288     93.665111                        9   \n",
              "8332  34.455490        2.427274      0.000000                        1   \n",
              "8333  58.347160        4.009393    176.356940                        9   \n",
              "8334  43.340616        6.154837     60.321917                        7   \n",
              "8335  46.192782        5.174722    112.023389                        2   \n",
              "\n",
              "      Latitude  Longitude  Gender  \n",
              "8331   32.7833   -79.9333       0  \n",
              "8332   35.1174   -89.9711       1  \n",
              "8333   32.7833   -79.9333       0  \n",
              "8334   39.9500   -75.1667       0  \n",
              "8335   41.8369   -87.6847       1  "
            ],
            "text/html": [
              "\n",
              "  <div id=\"df-7779aa28-ed12-49c5-8c7a-75d7ebc44969\">\n",
              "    <div class=\"colab-df-container\">\n",
              "      <div>\n",
              "<style scoped>\n",
              "    .dataframe tbody tr th:only-of-type {\n",
              "        vertical-align: middle;\n",
              "    }\n",
              "\n",
              "    .dataframe tbody tr th {\n",
              "        vertical-align: top;\n",
              "    }\n",
              "\n",
              "    .dataframe thead th {\n",
              "        text-align: right;\n",
              "    }\n",
              "</style>\n",
              "<table border=\"1\" class=\"dataframe\">\n",
              "  <thead>\n",
              "    <tr style=\"text-align: right;\">\n",
              "      <th></th>\n",
              "      <th>Age</th>\n",
              "      <th>Length_Service</th>\n",
              "      <th>Absent_Hours</th>\n",
              "      <th>Distribution_Centers_Id</th>\n",
              "      <th>Latitude</th>\n",
              "      <th>Longitude</th>\n",
              "      <th>Gender</th>\n",
              "    </tr>\n",
              "  </thead>\n",
              "  <tbody>\n",
              "    <tr>\n",
              "      <th>8331</th>\n",
              "      <td>46.057544</td>\n",
              "      <td>4.838288</td>\n",
              "      <td>93.665111</td>\n",
              "      <td>9</td>\n",
              "      <td>32.7833</td>\n",
              "      <td>-79.9333</td>\n",
              "      <td>0</td>\n",
              "    </tr>\n",
              "    <tr>\n",
              "      <th>8332</th>\n",
              "      <td>34.455490</td>\n",
              "      <td>2.427274</td>\n",
              "      <td>0.000000</td>\n",
              "      <td>1</td>\n",
              "      <td>35.1174</td>\n",
              "      <td>-89.9711</td>\n",
              "      <td>1</td>\n",
              "    </tr>\n",
              "    <tr>\n",
              "      <th>8333</th>\n",
              "      <td>58.347160</td>\n",
              "      <td>4.009393</td>\n",
              "      <td>176.356940</td>\n",
              "      <td>9</td>\n",
              "      <td>32.7833</td>\n",
              "      <td>-79.9333</td>\n",
              "      <td>0</td>\n",
              "    </tr>\n",
              "    <tr>\n",
              "      <th>8334</th>\n",
              "      <td>43.340616</td>\n",
              "      <td>6.154837</td>\n",
              "      <td>60.321917</td>\n",
              "      <td>7</td>\n",
              "      <td>39.9500</td>\n",
              "      <td>-75.1667</td>\n",
              "      <td>0</td>\n",
              "    </tr>\n",
              "    <tr>\n",
              "      <th>8335</th>\n",
              "      <td>46.192782</td>\n",
              "      <td>5.174722</td>\n",
              "      <td>112.023389</td>\n",
              "      <td>2</td>\n",
              "      <td>41.8369</td>\n",
              "      <td>-87.6847</td>\n",
              "      <td>1</td>\n",
              "    </tr>\n",
              "  </tbody>\n",
              "</table>\n",
              "</div>\n",
              "      <button class=\"colab-df-convert\" onclick=\"convertToInteractive('df-7779aa28-ed12-49c5-8c7a-75d7ebc44969')\"\n",
              "              title=\"Convert this dataframe to an interactive table.\"\n",
              "              style=\"display:none;\">\n",
              "        \n",
              "  <svg xmlns=\"http://www.w3.org/2000/svg\" height=\"24px\"viewBox=\"0 0 24 24\"\n",
              "       width=\"24px\">\n",
              "    <path d=\"M0 0h24v24H0V0z\" fill=\"none\"/>\n",
              "    <path d=\"M18.56 5.44l.94 2.06.94-2.06 2.06-.94-2.06-.94-.94-2.06-.94 2.06-2.06.94zm-11 1L8.5 8.5l.94-2.06 2.06-.94-2.06-.94L8.5 2.5l-.94 2.06-2.06.94zm10 10l.94 2.06.94-2.06 2.06-.94-2.06-.94-.94-2.06-.94 2.06-2.06.94z\"/><path d=\"M17.41 7.96l-1.37-1.37c-.4-.4-.92-.59-1.43-.59-.52 0-1.04.2-1.43.59L10.3 9.45l-7.72 7.72c-.78.78-.78 2.05 0 2.83L4 21.41c.39.39.9.59 1.41.59.51 0 1.02-.2 1.41-.59l7.78-7.78 2.81-2.81c.8-.78.8-2.07 0-2.86zM5.41 20L4 18.59l7.72-7.72 1.47 1.35L5.41 20z\"/>\n",
              "  </svg>\n",
              "      </button>\n",
              "      \n",
              "  <style>\n",
              "    .colab-df-container {\n",
              "      display:flex;\n",
              "      flex-wrap:wrap;\n",
              "      gap: 12px;\n",
              "    }\n",
              "\n",
              "    .colab-df-convert {\n",
              "      background-color: #E8F0FE;\n",
              "      border: none;\n",
              "      border-radius: 50%;\n",
              "      cursor: pointer;\n",
              "      display: none;\n",
              "      fill: #1967D2;\n",
              "      height: 32px;\n",
              "      padding: 0 0 0 0;\n",
              "      width: 32px;\n",
              "    }\n",
              "\n",
              "    .colab-df-convert:hover {\n",
              "      background-color: #E2EBFA;\n",
              "      box-shadow: 0px 1px 2px rgba(60, 64, 67, 0.3), 0px 1px 3px 1px rgba(60, 64, 67, 0.15);\n",
              "      fill: #174EA6;\n",
              "    }\n",
              "\n",
              "    [theme=dark] .colab-df-convert {\n",
              "      background-color: #3B4455;\n",
              "      fill: #D2E3FC;\n",
              "    }\n",
              "\n",
              "    [theme=dark] .colab-df-convert:hover {\n",
              "      background-color: #434B5C;\n",
              "      box-shadow: 0px 1px 3px 1px rgba(0, 0, 0, 0.15);\n",
              "      filter: drop-shadow(0px 1px 2px rgba(0, 0, 0, 0.3));\n",
              "      fill: #FFFFFF;\n",
              "    }\n",
              "  </style>\n",
              "\n",
              "      <script>\n",
              "        const buttonEl =\n",
              "          document.querySelector('#df-7779aa28-ed12-49c5-8c7a-75d7ebc44969 button.colab-df-convert');\n",
              "        buttonEl.style.display =\n",
              "          google.colab.kernel.accessAllowed ? 'block' : 'none';\n",
              "\n",
              "        async function convertToInteractive(key) {\n",
              "          const element = document.querySelector('#df-7779aa28-ed12-49c5-8c7a-75d7ebc44969');\n",
              "          const dataTable =\n",
              "            await google.colab.kernel.invokeFunction('convertToInteractive',\n",
              "                                                     [key], {});\n",
              "          if (!dataTable) return;\n",
              "\n",
              "          const docLinkHtml = 'Like what you see? Visit the ' +\n",
              "            '<a target=\"_blank\" href=https://colab.research.google.com/notebooks/data_table.ipynb>data table notebook</a>'\n",
              "            + ' to learn more about interactive tables.';\n",
              "          element.innerHTML = '';\n",
              "          dataTable['output_type'] = 'display_data';\n",
              "          await google.colab.output.renderOutput(dataTable, element);\n",
              "          const docLink = document.createElement('div');\n",
              "          docLink.innerHTML = docLinkHtml;\n",
              "          element.appendChild(docLink);\n",
              "        }\n",
              "      </script>\n",
              "    </div>\n",
              "  </div>\n",
              "  "
            ]
          },
          "metadata": {},
          "execution_count": 12
        }
      ],
      "source": [
        "#memperlihatkan n baris akhir dari sebuah pandas dataframe (default n = 5)\n",
        "\n",
        "df.tail()"
      ]
    },
    {
      "cell_type": "code",
      "execution_count": null,
      "metadata": {
        "colab": {
          "base_uri": "https://localhost:8080/"
        },
        "id": "zetaxXM4MjGm",
        "outputId": "4027dee7-a5fd-4d4d-be28-cc55c06e936b"
      },
      "outputs": [
        {
          "output_type": "execute_result",
          "data": {
            "text/plain": [
              "Index(['Age', 'Length_Service', 'Absent_Hours', 'Distribution_Centers_Id',\n",
              "       'Latitude', 'Longitude', 'Gender'],\n",
              "      dtype='object')"
            ]
          },
          "metadata": {},
          "execution_count": 13
        }
      ],
      "source": [
        "#memperlihatkan nama kolom dari sebuah pandas dataframe\n",
        "\n",
        "df.columns"
      ]
    },
    {
      "cell_type": "code",
      "execution_count": null,
      "metadata": {
        "colab": {
          "base_uri": "https://localhost:8080/"
        },
        "id": "a0hNuI_CMbmY",
        "outputId": "b087a416-b6d5-471c-b953-5569ac3f58f8"
      },
      "outputs": [
        {
          "output_type": "stream",
          "name": "stdout",
          "text": [
            "<class 'pandas.core.frame.DataFrame'>\n",
            "RangeIndex: 8336 entries, 0 to 8335\n",
            "Data columns (total 7 columns):\n",
            " #   Column                   Non-Null Count  Dtype  \n",
            "---  ------                   --------------  -----  \n",
            " 0   Age                      8336 non-null   float64\n",
            " 1   Length_Service           8336 non-null   float64\n",
            " 2   Absent_Hours             8336 non-null   float64\n",
            " 3   Distribution_Centers_Id  8336 non-null   int64  \n",
            " 4   Latitude                 8336 non-null   float64\n",
            " 5   Longitude                8336 non-null   float64\n",
            " 6   Gender                   8336 non-null   uint8  \n",
            "dtypes: float64(5), int64(1), uint8(1)\n",
            "memory usage: 399.0 KB\n"
          ]
        }
      ],
      "source": [
        "df.info()"
      ]
    },
    {
      "cell_type": "code",
      "execution_count": null,
      "metadata": {
        "colab": {
          "base_uri": "https://localhost:8080/"
        },
        "id": "m5HmoBa6Mi1c",
        "outputId": "18069489-7d38-44a6-b9ce-5dd26fb1137b"
      },
      "outputs": [
        {
          "output_type": "execute_result",
          "data": {
            "text/plain": [
              "               Age  Length_Service  Absent_Hours  Distribution_Centers_Id  \\\n",
              "count  8336.000000     8336.000000   8336.000000              8336.000000   \n",
              "mean     42.007086        4.782910     61.283978                 5.493762   \n",
              "std       9.939798        2.462990     49.038365                 2.872447   \n",
              "min       3.504743        0.012098      0.000000                 1.000000   \n",
              "25%      35.298748        3.575892     19.127590                 3.000000   \n",
              "50%      42.114924        4.600248     56.005808                 5.000000   \n",
              "75%      48.666943        5.623922     94.284692                 8.000000   \n",
              "max      77.938003       43.735239    272.530123                10.000000   \n",
              "\n",
              "          Latitude    Longitude       Gender  \n",
              "count  8336.000000  8336.000000  8336.000000  \n",
              "mean     34.667625   -87.987046     0.505758  \n",
              "std       4.334152    12.073775     0.499997  \n",
              "min      29.760400  -118.250000     0.000000  \n",
              "25%      30.694400   -90.066700     0.000000  \n",
              "50%      32.783300   -88.043100     1.000000  \n",
              "75%      39.950000   -79.933300     1.000000  \n",
              "max      41.836900   -73.783400     1.000000  "
            ],
            "text/html": [
              "\n",
              "  <div id=\"df-815517b3-b0ec-4a23-9c42-8e175c857c34\">\n",
              "    <div class=\"colab-df-container\">\n",
              "      <div>\n",
              "<style scoped>\n",
              "    .dataframe tbody tr th:only-of-type {\n",
              "        vertical-align: middle;\n",
              "    }\n",
              "\n",
              "    .dataframe tbody tr th {\n",
              "        vertical-align: top;\n",
              "    }\n",
              "\n",
              "    .dataframe thead th {\n",
              "        text-align: right;\n",
              "    }\n",
              "</style>\n",
              "<table border=\"1\" class=\"dataframe\">\n",
              "  <thead>\n",
              "    <tr style=\"text-align: right;\">\n",
              "      <th></th>\n",
              "      <th>Age</th>\n",
              "      <th>Length_Service</th>\n",
              "      <th>Absent_Hours</th>\n",
              "      <th>Distribution_Centers_Id</th>\n",
              "      <th>Latitude</th>\n",
              "      <th>Longitude</th>\n",
              "      <th>Gender</th>\n",
              "    </tr>\n",
              "  </thead>\n",
              "  <tbody>\n",
              "    <tr>\n",
              "      <th>count</th>\n",
              "      <td>8336.000000</td>\n",
              "      <td>8336.000000</td>\n",
              "      <td>8336.000000</td>\n",
              "      <td>8336.000000</td>\n",
              "      <td>8336.000000</td>\n",
              "      <td>8336.000000</td>\n",
              "      <td>8336.000000</td>\n",
              "    </tr>\n",
              "    <tr>\n",
              "      <th>mean</th>\n",
              "      <td>42.007086</td>\n",
              "      <td>4.782910</td>\n",
              "      <td>61.283978</td>\n",
              "      <td>5.493762</td>\n",
              "      <td>34.667625</td>\n",
              "      <td>-87.987046</td>\n",
              "      <td>0.505758</td>\n",
              "    </tr>\n",
              "    <tr>\n",
              "      <th>std</th>\n",
              "      <td>9.939798</td>\n",
              "      <td>2.462990</td>\n",
              "      <td>49.038365</td>\n",
              "      <td>2.872447</td>\n",
              "      <td>4.334152</td>\n",
              "      <td>12.073775</td>\n",
              "      <td>0.499997</td>\n",
              "    </tr>\n",
              "    <tr>\n",
              "      <th>min</th>\n",
              "      <td>3.504743</td>\n",
              "      <td>0.012098</td>\n",
              "      <td>0.000000</td>\n",
              "      <td>1.000000</td>\n",
              "      <td>29.760400</td>\n",
              "      <td>-118.250000</td>\n",
              "      <td>0.000000</td>\n",
              "    </tr>\n",
              "    <tr>\n",
              "      <th>25%</th>\n",
              "      <td>35.298748</td>\n",
              "      <td>3.575892</td>\n",
              "      <td>19.127590</td>\n",
              "      <td>3.000000</td>\n",
              "      <td>30.694400</td>\n",
              "      <td>-90.066700</td>\n",
              "      <td>0.000000</td>\n",
              "    </tr>\n",
              "    <tr>\n",
              "      <th>50%</th>\n",
              "      <td>42.114924</td>\n",
              "      <td>4.600248</td>\n",
              "      <td>56.005808</td>\n",
              "      <td>5.000000</td>\n",
              "      <td>32.783300</td>\n",
              "      <td>-88.043100</td>\n",
              "      <td>1.000000</td>\n",
              "    </tr>\n",
              "    <tr>\n",
              "      <th>75%</th>\n",
              "      <td>48.666943</td>\n",
              "      <td>5.623922</td>\n",
              "      <td>94.284692</td>\n",
              "      <td>8.000000</td>\n",
              "      <td>39.950000</td>\n",
              "      <td>-79.933300</td>\n",
              "      <td>1.000000</td>\n",
              "    </tr>\n",
              "    <tr>\n",
              "      <th>max</th>\n",
              "      <td>77.938003</td>\n",
              "      <td>43.735239</td>\n",
              "      <td>272.530123</td>\n",
              "      <td>10.000000</td>\n",
              "      <td>41.836900</td>\n",
              "      <td>-73.783400</td>\n",
              "      <td>1.000000</td>\n",
              "    </tr>\n",
              "  </tbody>\n",
              "</table>\n",
              "</div>\n",
              "      <button class=\"colab-df-convert\" onclick=\"convertToInteractive('df-815517b3-b0ec-4a23-9c42-8e175c857c34')\"\n",
              "              title=\"Convert this dataframe to an interactive table.\"\n",
              "              style=\"display:none;\">\n",
              "        \n",
              "  <svg xmlns=\"http://www.w3.org/2000/svg\" height=\"24px\"viewBox=\"0 0 24 24\"\n",
              "       width=\"24px\">\n",
              "    <path d=\"M0 0h24v24H0V0z\" fill=\"none\"/>\n",
              "    <path d=\"M18.56 5.44l.94 2.06.94-2.06 2.06-.94-2.06-.94-.94-2.06-.94 2.06-2.06.94zm-11 1L8.5 8.5l.94-2.06 2.06-.94-2.06-.94L8.5 2.5l-.94 2.06-2.06.94zm10 10l.94 2.06.94-2.06 2.06-.94-2.06-.94-.94-2.06-.94 2.06-2.06.94z\"/><path d=\"M17.41 7.96l-1.37-1.37c-.4-.4-.92-.59-1.43-.59-.52 0-1.04.2-1.43.59L10.3 9.45l-7.72 7.72c-.78.78-.78 2.05 0 2.83L4 21.41c.39.39.9.59 1.41.59.51 0 1.02-.2 1.41-.59l7.78-7.78 2.81-2.81c.8-.78.8-2.07 0-2.86zM5.41 20L4 18.59l7.72-7.72 1.47 1.35L5.41 20z\"/>\n",
              "  </svg>\n",
              "      </button>\n",
              "      \n",
              "  <style>\n",
              "    .colab-df-container {\n",
              "      display:flex;\n",
              "      flex-wrap:wrap;\n",
              "      gap: 12px;\n",
              "    }\n",
              "\n",
              "    .colab-df-convert {\n",
              "      background-color: #E8F0FE;\n",
              "      border: none;\n",
              "      border-radius: 50%;\n",
              "      cursor: pointer;\n",
              "      display: none;\n",
              "      fill: #1967D2;\n",
              "      height: 32px;\n",
              "      padding: 0 0 0 0;\n",
              "      width: 32px;\n",
              "    }\n",
              "\n",
              "    .colab-df-convert:hover {\n",
              "      background-color: #E2EBFA;\n",
              "      box-shadow: 0px 1px 2px rgba(60, 64, 67, 0.3), 0px 1px 3px 1px rgba(60, 64, 67, 0.15);\n",
              "      fill: #174EA6;\n",
              "    }\n",
              "\n",
              "    [theme=dark] .colab-df-convert {\n",
              "      background-color: #3B4455;\n",
              "      fill: #D2E3FC;\n",
              "    }\n",
              "\n",
              "    [theme=dark] .colab-df-convert:hover {\n",
              "      background-color: #434B5C;\n",
              "      box-shadow: 0px 1px 3px 1px rgba(0, 0, 0, 0.15);\n",
              "      filter: drop-shadow(0px 1px 2px rgba(0, 0, 0, 0.3));\n",
              "      fill: #FFFFFF;\n",
              "    }\n",
              "  </style>\n",
              "\n",
              "      <script>\n",
              "        const buttonEl =\n",
              "          document.querySelector('#df-815517b3-b0ec-4a23-9c42-8e175c857c34 button.colab-df-convert');\n",
              "        buttonEl.style.display =\n",
              "          google.colab.kernel.accessAllowed ? 'block' : 'none';\n",
              "\n",
              "        async function convertToInteractive(key) {\n",
              "          const element = document.querySelector('#df-815517b3-b0ec-4a23-9c42-8e175c857c34');\n",
              "          const dataTable =\n",
              "            await google.colab.kernel.invokeFunction('convertToInteractive',\n",
              "                                                     [key], {});\n",
              "          if (!dataTable) return;\n",
              "\n",
              "          const docLinkHtml = 'Like what you see? Visit the ' +\n",
              "            '<a target=\"_blank\" href=https://colab.research.google.com/notebooks/data_table.ipynb>data table notebook</a>'\n",
              "            + ' to learn more about interactive tables.';\n",
              "          element.innerHTML = '';\n",
              "          dataTable['output_type'] = 'display_data';\n",
              "          await google.colab.output.renderOutput(dataTable, element);\n",
              "          const docLink = document.createElement('div');\n",
              "          docLink.innerHTML = docLinkHtml;\n",
              "          element.appendChild(docLink);\n",
              "        }\n",
              "      </script>\n",
              "    </div>\n",
              "  </div>\n",
              "  "
            ]
          },
          "metadata": {},
          "execution_count": 15
        }
      ],
      "source": [
        "df.describe()"
      ]
    },
    {
      "cell_type": "markdown",
      "metadata": {
        "id": "Tv-1hL8HOYgY"
      },
      "source": [
        "Insights dari Summary:\n",
        "1. Karyawan The Look E-Commerce rata-rata berusia sekitar 42 tahun.\n",
        "2. Karyawan The Look E-Commerce rata-rata sudah bekerja di perusahaan selama kurang lebih 4,7 tahun.\n",
        "3. Rata-rata lamanya absen karyawan dalam 1 tahun kurang lebih 61 jam.\n",
        "\n",
        "\n",
        "\n"
      ]
    },
    {
      "cell_type": "code",
      "execution_count": null,
      "metadata": {
        "colab": {
          "base_uri": "https://localhost:8080/"
        },
        "id": "m0cObMzXk4VJ",
        "outputId": "a93e94d4-245e-42e9-df54-a6b909d14756"
      },
      "outputs": [
        {
          "output_type": "execute_result",
          "data": {
            "text/plain": [
              "   Gender\n",
              "1    4216\n",
              "0    4120"
            ],
            "text/html": [
              "\n",
              "  <div id=\"df-0bbf6c99-8aeb-4cd7-baa0-a022f8fbb5fa\">\n",
              "    <div class=\"colab-df-container\">\n",
              "      <div>\n",
              "<style scoped>\n",
              "    .dataframe tbody tr th:only-of-type {\n",
              "        vertical-align: middle;\n",
              "    }\n",
              "\n",
              "    .dataframe tbody tr th {\n",
              "        vertical-align: top;\n",
              "    }\n",
              "\n",
              "    .dataframe thead th {\n",
              "        text-align: right;\n",
              "    }\n",
              "</style>\n",
              "<table border=\"1\" class=\"dataframe\">\n",
              "  <thead>\n",
              "    <tr style=\"text-align: right;\">\n",
              "      <th></th>\n",
              "      <th>Gender</th>\n",
              "    </tr>\n",
              "  </thead>\n",
              "  <tbody>\n",
              "    <tr>\n",
              "      <th>1</th>\n",
              "      <td>4216</td>\n",
              "    </tr>\n",
              "    <tr>\n",
              "      <th>0</th>\n",
              "      <td>4120</td>\n",
              "    </tr>\n",
              "  </tbody>\n",
              "</table>\n",
              "</div>\n",
              "      <button class=\"colab-df-convert\" onclick=\"convertToInteractive('df-0bbf6c99-8aeb-4cd7-baa0-a022f8fbb5fa')\"\n",
              "              title=\"Convert this dataframe to an interactive table.\"\n",
              "              style=\"display:none;\">\n",
              "        \n",
              "  <svg xmlns=\"http://www.w3.org/2000/svg\" height=\"24px\"viewBox=\"0 0 24 24\"\n",
              "       width=\"24px\">\n",
              "    <path d=\"M0 0h24v24H0V0z\" fill=\"none\"/>\n",
              "    <path d=\"M18.56 5.44l.94 2.06.94-2.06 2.06-.94-2.06-.94-.94-2.06-.94 2.06-2.06.94zm-11 1L8.5 8.5l.94-2.06 2.06-.94-2.06-.94L8.5 2.5l-.94 2.06-2.06.94zm10 10l.94 2.06.94-2.06 2.06-.94-2.06-.94-.94-2.06-.94 2.06-2.06.94z\"/><path d=\"M17.41 7.96l-1.37-1.37c-.4-.4-.92-.59-1.43-.59-.52 0-1.04.2-1.43.59L10.3 9.45l-7.72 7.72c-.78.78-.78 2.05 0 2.83L4 21.41c.39.39.9.59 1.41.59.51 0 1.02-.2 1.41-.59l7.78-7.78 2.81-2.81c.8-.78.8-2.07 0-2.86zM5.41 20L4 18.59l7.72-7.72 1.47 1.35L5.41 20z\"/>\n",
              "  </svg>\n",
              "      </button>\n",
              "      \n",
              "  <style>\n",
              "    .colab-df-container {\n",
              "      display:flex;\n",
              "      flex-wrap:wrap;\n",
              "      gap: 12px;\n",
              "    }\n",
              "\n",
              "    .colab-df-convert {\n",
              "      background-color: #E8F0FE;\n",
              "      border: none;\n",
              "      border-radius: 50%;\n",
              "      cursor: pointer;\n",
              "      display: none;\n",
              "      fill: #1967D2;\n",
              "      height: 32px;\n",
              "      padding: 0 0 0 0;\n",
              "      width: 32px;\n",
              "    }\n",
              "\n",
              "    .colab-df-convert:hover {\n",
              "      background-color: #E2EBFA;\n",
              "      box-shadow: 0px 1px 2px rgba(60, 64, 67, 0.3), 0px 1px 3px 1px rgba(60, 64, 67, 0.15);\n",
              "      fill: #174EA6;\n",
              "    }\n",
              "\n",
              "    [theme=dark] .colab-df-convert {\n",
              "      background-color: #3B4455;\n",
              "      fill: #D2E3FC;\n",
              "    }\n",
              "\n",
              "    [theme=dark] .colab-df-convert:hover {\n",
              "      background-color: #434B5C;\n",
              "      box-shadow: 0px 1px 3px 1px rgba(0, 0, 0, 0.15);\n",
              "      filter: drop-shadow(0px 1px 2px rgba(0, 0, 0, 0.3));\n",
              "      fill: #FFFFFF;\n",
              "    }\n",
              "  </style>\n",
              "\n",
              "      <script>\n",
              "        const buttonEl =\n",
              "          document.querySelector('#df-0bbf6c99-8aeb-4cd7-baa0-a022f8fbb5fa button.colab-df-convert');\n",
              "        buttonEl.style.display =\n",
              "          google.colab.kernel.accessAllowed ? 'block' : 'none';\n",
              "\n",
              "        async function convertToInteractive(key) {\n",
              "          const element = document.querySelector('#df-0bbf6c99-8aeb-4cd7-baa0-a022f8fbb5fa');\n",
              "          const dataTable =\n",
              "            await google.colab.kernel.invokeFunction('convertToInteractive',\n",
              "                                                     [key], {});\n",
              "          if (!dataTable) return;\n",
              "\n",
              "          const docLinkHtml = 'Like what you see? Visit the ' +\n",
              "            '<a target=\"_blank\" href=https://colab.research.google.com/notebooks/data_table.ipynb>data table notebook</a>'\n",
              "            + ' to learn more about interactive tables.';\n",
              "          element.innerHTML = '';\n",
              "          dataTable['output_type'] = 'display_data';\n",
              "          await google.colab.output.renderOutput(dataTable, element);\n",
              "          const docLink = document.createElement('div');\n",
              "          docLink.innerHTML = docLinkHtml;\n",
              "          element.appendChild(docLink);\n",
              "        }\n",
              "      </script>\n",
              "    </div>\n",
              "  </div>\n",
              "  "
            ]
          },
          "metadata": {},
          "execution_count": 16
        }
      ],
      "source": [
        "# Menghitung jumlah karyawan berdasarkan jenis kelaminnya\n",
        "# Dapat dilihat bahwa ternyata perusahaan The Look E-Commerce didominasi karyawan laki-laki\n",
        "\n",
        "df['Gender'].value_counts().to_frame()"
      ]
    },
    {
      "cell_type": "code",
      "execution_count": null,
      "metadata": {
        "colab": {
          "base_uri": "https://localhost:8080/"
        },
        "id": "5d6IiF8To6j_",
        "outputId": "dc98dfb8-045b-4a94-f7d6-5549d91e187c"
      },
      "outputs": [
        {
          "output_type": "stream",
          "name": "stderr",
          "text": [
            "/usr/local/lib/python3.7/dist-packages/seaborn/_decorators.py:43: FutureWarning: Pass the following variables as keyword args: x, y. From version 0.12, the only valid positional argument will be `data`, and passing other arguments without an explicit keyword will result in an error or misinterpretation.\n",
            "  FutureWarning\n"
          ]
        },
        {
          "output_type": "execute_result",
          "data": {
            "text/plain": [
              "<matplotlib.axes._subplots.AxesSubplot at 0x7f2592c294d0>"
            ]
          },
          "metadata": {},
          "execution_count": 17
        },
        {
          "output_type": "display_data",
          "data": {
            "text/plain": [
              "<Figure size 432x288 with 1 Axes>"
            ],
            "image/png": "[encoded data removed]"
          },
          "metadata": {
            "needs_background": "light"
          }
        }
      ],
      "source": [
        "# Karyawan Wanita di perusahaan The Look E-Commerce lebih sering melakukan izin dibanding karyawan laki-laki\n",
        "\n",
        "sns.barplot( df['Gender'],df['Absent_Hours'])"
      ]
    },
    {
      "cell_type": "markdown",
      "metadata": {
        "id": "A8QCYg-QnFv4"
      },
      "source": [
        "**Nama Distribution Centers berdasarkan Id nya**\n",
        "\n",
        "1.   Memphis TN\n",
        "2.   Chicago IL\n",
        "3.   Houston TX\n",
        "4.   Los Angeles CA\n",
        "5.   New Orleans LA\n",
        "6.   Port Authority of New York/New Jersey NY/NJ\n",
        "7.   Philadelphia PA\n",
        "8.   Mobile AL\n",
        "9.   Charleston SC\n",
        "10.  Savannah GA\n",
        "\n"
      ]
    },
    {
      "cell_type": "code",
      "execution_count": null,
      "metadata": {
        "colab": {
          "base_uri": "https://localhost:8080/"
        },
        "id": "LwV-Puz8lnjN",
        "outputId": "2268674b-b116-43ad-9f10-547c65ffdcba"
      },
      "outputs": [
        {
          "output_type": "execute_result",
          "data": {
            "text/plain": [
              "    Distribution_Centers_Id\n",
              "8                       859\n",
              "9                       841\n",
              "1                       840\n",
              "4                       838\n",
              "2                       836\n",
              "6                       835\n",
              "3                       831\n",
              "5                       826\n",
              "10                      816\n",
              "7                       814"
            ],
            "text/html": [
              "\n",
              "  <div id=\"df-21374d61-485b-4962-aca3-8f7c5700cbce\">\n",
              "    <div class=\"colab-df-container\">\n",
              "      <div>\n",
              "<style scoped>\n",
              "    .dataframe tbody tr th:only-of-type {\n",
              "        vertical-align: middle;\n",
              "    }\n",
              "\n",
              "    .dataframe tbody tr th {\n",
              "        vertical-align: top;\n",
              "    }\n",
              "\n",
              "    .dataframe thead th {\n",
              "        text-align: right;\n",
              "    }\n",
              "</style>\n",
              "<table border=\"1\" class=\"dataframe\">\n",
              "  <thead>\n",
              "    <tr style=\"text-align: right;\">\n",
              "      <th></th>\n",
              "      <th>Distribution_Centers_Id</th>\n",
              "    </tr>\n",
              "  </thead>\n",
              "  <tbody>\n",
              "    <tr>\n",
              "      <th>8</th>\n",
              "      <td>859</td>\n",
              "    </tr>\n",
              "    <tr>\n",
              "      <th>9</th>\n",
              "      <td>841</td>\n",
              "    </tr>\n",
              "    <tr>\n",
              "      <th>1</th>\n",
              "      <td>840</td>\n",
              "    </tr>\n",
              "    <tr>\n",
              "      <th>4</th>\n",
              "      <td>838</td>\n",
              "    </tr>\n",
              "    <tr>\n",
              "      <th>2</th>\n",
              "      <td>836</td>\n",
              "    </tr>\n",
              "    <tr>\n",
              "      <th>6</th>\n",
              "      <td>835</td>\n",
              "    </tr>\n",
              "    <tr>\n",
              "      <th>3</th>\n",
              "      <td>831</td>\n",
              "    </tr>\n",
              "    <tr>\n",
              "      <th>5</th>\n",
              "      <td>826</td>\n",
              "    </tr>\n",
              "    <tr>\n",
              "      <th>10</th>\n",
              "      <td>816</td>\n",
              "    </tr>\n",
              "    <tr>\n",
              "      <th>7</th>\n",
              "      <td>814</td>\n",
              "    </tr>\n",
              "  </tbody>\n",
              "</table>\n",
              "</div>\n",
              "      <button class=\"colab-df-convert\" onclick=\"convertToInteractive('df-21374d61-485b-4962-aca3-8f7c5700cbce')\"\n",
              "              title=\"Convert this dataframe to an interactive table.\"\n",
              "              style=\"display:none;\">\n",
              "        \n",
              "  <svg xmlns=\"http://www.w3.org/2000/svg\" height=\"24px\"viewBox=\"0 0 24 24\"\n",
              "       width=\"24px\">\n",
              "    <path d=\"M0 0h24v24H0V0z\" fill=\"none\"/>\n",
              "    <path d=\"M18.56 5.44l.94 2.06.94-2.06 2.06-.94-2.06-.94-.94-2.06-.94 2.06-2.06.94zm-11 1L8.5 8.5l.94-2.06 2.06-.94-2.06-.94L8.5 2.5l-.94 2.06-2.06.94zm10 10l.94 2.06.94-2.06 2.06-.94-2.06-.94-.94-2.06-.94 2.06-2.06.94z\"/><path d=\"M17.41 7.96l-1.37-1.37c-.4-.4-.92-.59-1.43-.59-.52 0-1.04.2-1.43.59L10.3 9.45l-7.72 7.72c-.78.78-.78 2.05 0 2.83L4 21.41c.39.39.9.59 1.41.59.51 0 1.02-.2 1.41-.59l7.78-7.78 2.81-2.81c.8-.78.8-2.07 0-2.86zM5.41 20L4 18.59l7.72-7.72 1.47 1.35L5.41 20z\"/>\n",
              "  </svg>\n",
              "      </button>\n",
              "      \n",
              "  <style>\n",
              "    .colab-df-container {\n",
              "      display:flex;\n",
              "      flex-wrap:wrap;\n",
              "      gap: 12px;\n",
              "    }\n",
              "\n",
              "    .colab-df-convert {\n",
              "      background-color: #E8F0FE;\n",
              "      border: none;\n",
              "      border-radius: 50%;\n",
              "      cursor: pointer;\n",
              "      display: none;\n",
              "      fill: #1967D2;\n",
              "      height: 32px;\n",
              "      padding: 0 0 0 0;\n",
              "      width: 32px;\n",
              "    }\n",
              "\n",
              "    .colab-df-convert:hover {\n",
              "      background-color: #E2EBFA;\n",
              "      box-shadow: 0px 1px 2px rgba(60, 64, 67, 0.3), 0px 1px 3px 1px rgba(60, 64, 67, 0.15);\n",
              "      fill: #174EA6;\n",
              "    }\n",
              "\n",
              "    [theme=dark] .colab-df-convert {\n",
              "      background-color: #3B4455;\n",
              "      fill: #D2E3FC;\n",
              "    }\n",
              "\n",
              "    [theme=dark] .colab-df-convert:hover {\n",
              "      background-color: #434B5C;\n",
              "      box-shadow: 0px 1px 3px 1px rgba(0, 0, 0, 0.15);\n",
              "      filter: drop-shadow(0px 1px 2px rgba(0, 0, 0, 0.3));\n",
              "      fill: #FFFFFF;\n",
              "    }\n",
              "  </style>\n",
              "\n",
              "      <script>\n",
              "        const buttonEl =\n",
              "          document.querySelector('#df-21374d61-485b-4962-aca3-8f7c5700cbce button.colab-df-convert');\n",
              "        buttonEl.style.display =\n",
              "          google.colab.kernel.accessAllowed ? 'block' : 'none';\n",
              "\n",
              "        async function convertToInteractive(key) {\n",
              "          const element = document.querySelector('#df-21374d61-485b-4962-aca3-8f7c5700cbce');\n",
              "          const dataTable =\n",
              "            await google.colab.kernel.invokeFunction('convertToInteractive',\n",
              "                                                     [key], {});\n",
              "          if (!dataTable) return;\n",
              "\n",
              "          const docLinkHtml = 'Like what you see? Visit the ' +\n",
              "            '<a target=\"_blank\" href=https://colab.research.google.com/notebooks/data_table.ipynb>data table notebook</a>'\n",
              "            + ' to learn more about interactive tables.';\n",
              "          element.innerHTML = '';\n",
              "          dataTable['output_type'] = 'display_data';\n",
              "          await google.colab.output.renderOutput(dataTable, element);\n",
              "          const docLink = document.createElement('div');\n",
              "          docLink.innerHTML = docLinkHtml;\n",
              "          element.appendChild(docLink);\n",
              "        }\n",
              "      </script>\n",
              "    </div>\n",
              "  </div>\n",
              "  "
            ]
          },
          "metadata": {},
          "execution_count": 18
        }
      ],
      "source": [
        "# Menghitung jumlah karyawan berdasarkan nama lokasi kerjanya\n",
        "# Dapat dilihat bahwa ternyata distribution center dengan Id = 8 = Mobile AL memiliki jumlah karyawan terbanyak\n",
        "\n",
        "df['Distribution_Centers_Id'].value_counts().to_frame()"
      ]
    },
    {
      "cell_type": "code",
      "execution_count": null,
      "metadata": {
        "colab": {
          "base_uri": "https://localhost:8080/"
        },
        "id": "Pkfz6avr4JXA",
        "outputId": "4de825f2-d40c-4d86-ebf5-bd9a6120147c"
      },
      "outputs": [
        {
          "output_type": "stream",
          "name": "stderr",
          "text": [
            "/usr/local/lib/python3.7/dist-packages/seaborn/_decorators.py:43: FutureWarning: Pass the following variables as keyword args: x, y. From version 0.12, the only valid positional argument will be `data`, and passing other arguments without an explicit keyword will result in an error or misinterpretation.\n",
            "  FutureWarning\n"
          ]
        },
        {
          "output_type": "execute_result",
          "data": {
            "text/plain": [
              "<matplotlib.axes._subplots.AxesSubplot at 0x7f2592b4c210>"
            ]
          },
          "metadata": {},
          "execution_count": 19
        },
        {
          "output_type": "display_data",
          "data": {
            "text/plain": [
              "<Figure size 432x288 with 1 Axes>"
            ],
            "image/png": "[encoded data removed]"
          },
          "metadata": {
            "needs_background": "light"
          }
        }
      ],
      "source": [
        "sns.barplot( df['Distribution_Centers_Id'],df['Absent_Hours'])"
      ]
    },
    {
      "cell_type": "code",
      "execution_count": null,
      "metadata": {
        "colab": {
          "base_uri": "https://localhost:8080/"
        },
        "id": "-jNoOiOLQqGN",
        "outputId": "27f53806-34ae-4436-ba7b-2b467ae2cd92"
      },
      "outputs": [
        {
          "output_type": "execute_result",
          "data": {
            "text/plain": [
              "<matplotlib.axes._subplots.AxesSubplot at 0x7f2592645190>"
            ]
          },
          "metadata": {},
          "execution_count": 20
        },
        {
          "output_type": "display_data",
          "data": {
            "text/plain": [
              "<Figure size 432x288 with 1 Axes>"
            ],
            "image/png": "[encoded data removed]"
          },
          "metadata": {
            "needs_background": "light"
          }
        }
      ],
      "source": [
        "# Melihat distribusi data pada atributes Age/usia karyawan\n",
        "\n",
        "sns.boxplot(x='Age', data=df)"
      ]
    },
    {
      "cell_type": "code",
      "execution_count": null,
      "metadata": {
        "colab": {
          "base_uri": "https://localhost:8080/"
        },
        "id": "5r5iN_EQRXtQ",
        "outputId": "161e3a9e-a781-461a-9b26-22c35f55a178"
      },
      "outputs": [
        {
          "output_type": "stream",
          "name": "stdout",
          "text": [
            "Old Shape:  (8336, 7)\n",
            "New Shape:  (8272, 7)\n"
          ]
        }
      ],
      "source": [
        "# Handling Outliers Data Age\n",
        "\n",
        "''' Detection '''\n",
        "# IQR\n",
        "Q1 = np.percentile(df['Age'], 25,\n",
        "\t\t\t\tinterpolation = 'midpoint')\n",
        "\n",
        "Q3 = np.percentile(df['Age'], 75,\n",
        "\t\t\t\tinterpolation = 'midpoint')\n",
        "IQR = Q3 - Q1\n",
        "\n",
        "print(\"Old Shape: \", df.shape)\n",
        "\n",
        "# Upper bound\n",
        "upper = np.where(df['Age'] >= (Q3+1.5*IQR))\n",
        "# Lower bound\n",
        "lower = np.where(df['Age'] <= (Q1-1.5*IQR))\n",
        "\n",
        "''' Removing the Outliers '''\n",
        "df.drop(upper[0], inplace = True)\n",
        "df.drop(lower[0], inplace = True)\n",
        "\n",
        "print(\"New Shape: \", df.shape)\n"
      ]
    },
    {
      "cell_type": "code",
      "execution_count": null,
      "metadata": {
        "colab": {
          "base_uri": "https://localhost:8080/"
        },
        "id": "mANv2K3xT98Y",
        "outputId": "37ec9ef2-9f25-47e0-bea9-2174faaf5e9d"
      },
      "outputs": [
        {
          "output_type": "stream",
          "name": "stderr",
          "text": [
            "/usr/local/lib/python3.7/dist-packages/seaborn/_decorators.py:43: FutureWarning: Pass the following variable as a keyword arg: x. From version 0.12, the only valid positional argument will be `data`, and passing other arguments without an explicit keyword will result in an error or misinterpretation.\n",
            "  FutureWarning\n"
          ]
        },
        {
          "output_type": "execute_result",
          "data": {
            "text/plain": [
              "<matplotlib.axes._subplots.AxesSubplot at 0x7f2592c4e350>"
            ]
          },
          "metadata": {},
          "execution_count": 22
        },
        {
          "output_type": "display_data",
          "data": {
            "text/plain": [
              "<Figure size 432x288 with 1 Axes>"
            ],
            "image/png": "[encoded data removed]"
          },
          "metadata": {
            "needs_background": "light"
          }
        }
      ],
      "source": [
        "# Cek ulang distribusi data Age\n",
        "\n",
        "sns.boxplot(df['Age'])"
      ]
    },
    {
      "cell_type": "code",
      "execution_count": null,
      "metadata": {
        "colab": {
          "base_uri": "https://localhost:8080/"
        },
        "id": "jvw4-cbf4gEa",
        "outputId": "0c344f5a-f217-422b-8327-925244291572"
      },
      "outputs": [
        {
          "output_type": "execute_result",
          "data": {
            "text/plain": [
              "(array([ 106.,  300.,  735., 1258., 1670., 1753., 1283.,  733.,  310.,\n",
              "         124.]),\n",
              " array([15.36973252, 20.68197345, 25.99421439, 31.30645532, 36.61869625,\n",
              "        41.93093718, 47.24317812, 52.55541905, 57.86765998, 63.17990092,\n",
              "        68.49214185]),\n",
              " <a list of 10 Patch objects>)"
            ]
          },
          "metadata": {},
          "execution_count": 23
        },
        {
          "output_type": "display_data",
          "data": {
            "text/plain": [
              "<Figure size 432x288 with 1 Axes>"
            ],
            "image/png": "[encoded data removed]"
          },
          "metadata": {
            "needs_background": "light"
          }
        }
      ],
      "source": [
        "plt.hist(df['Age'])"
      ]
    },
    {
      "cell_type": "code",
      "execution_count": null,
      "metadata": {
        "colab": {
          "base_uri": "https://localhost:8080/"
        },
        "id": "6ntYDkPuCGP5",
        "outputId": "ac750dcc-4298-494e-83bb-f63235edce32"
      },
      "outputs": [
        {
          "output_type": "stream",
          "name": "stderr",
          "text": [
            "/usr/local/lib/python3.7/dist-packages/seaborn/distributions.py:2619: FutureWarning: `distplot` is a deprecated function and will be removed in a future version. Please adapt your code to use either `displot` (a figure-level function with similar flexibility) or `histplot` (an axes-level function for histograms).\n",
            "  warnings.warn(msg, FutureWarning)\n"
          ]
        },
        {
          "output_type": "execute_result",
          "data": {
            "text/plain": [
              "<matplotlib.axes._subplots.AxesSubplot at 0x7f259248e490>"
            ]
          },
          "metadata": {},
          "execution_count": 24
        },
        {
          "output_type": "display_data",
          "data": {
            "text/plain": [
              "<Figure size 432x288 with 1 Axes>"
            ],
            "image/png": "[encoded data removed]"
          },
          "metadata": {
            "needs_background": "light"
          }
        }
      ],
      "source": [
        "# Melihat distribusi persebaran data lama rata-rata karyawan bekerja di perusahaan\n",
        "# Ternyata data tersebut berdistribusi skewed\n",
        "# Perlu dilakukan handling agar data berdistribusi normal\n",
        "\n",
        "sns.distplot(df.Length_Service)"
      ]
    },
    {
      "cell_type": "code",
      "execution_count": null,
      "metadata": {
        "colab": {
          "base_uri": "https://localhost:8080/"
        },
        "id": "MVzi8DxrHVyB",
        "outputId": "18e940e8-40ba-435e-bb07-5a57a3ea2e56"
      },
      "outputs": [
        {
          "output_type": "execute_result",
          "data": {
            "text/plain": [
              "0       2.453259\n",
              "1       2.352115\n",
              "2       2.095226\n",
              "3       1.755487\n",
              "4       1.902391\n",
              "          ...   \n",
              "8331    2.199611\n",
              "8332    1.557971\n",
              "8333    2.002347\n",
              "8334    2.480894\n",
              "8335    2.274801\n",
              "Name: Length_Service, Length: 8272, dtype: float64"
            ]
          },
          "metadata": {},
          "execution_count": 25
        }
      ],
      "source": [
        "# Normalization Data Skewed\n",
        "\n",
        "sqrt_Length_Service = np.sqrt(df['Length_Service'])\n",
        "sqrt_Length_Service"
      ]
    },
    {
      "cell_type": "code",
      "execution_count": null,
      "metadata": {
        "colab": {
          "base_uri": "https://localhost:8080/"
        },
        "id": "He3689iXIINu",
        "outputId": "1f72311d-6bab-4b97-e07c-00d316d5b4a1"
      },
      "outputs": [
        {
          "output_type": "execute_result",
          "data": {
            "text/plain": [
              "1.7294375575401713"
            ]
          },
          "metadata": {},
          "execution_count": 26
        }
      ],
      "source": [
        "sqrt_Length_Service.skew()"
      ]
    },
    {
      "cell_type": "code",
      "execution_count": null,
      "metadata": {
        "colab": {
          "base_uri": "https://localhost:8080/"
        },
        "id": "iYlgRWSjIrZ7",
        "outputId": "7cde38fc-6600-4bfa-9c06-f7d31fc5995e"
      },
      "outputs": [
        {
          "output_type": "stream",
          "name": "stderr",
          "text": [
            "/usr/local/lib/python3.7/dist-packages/seaborn/distributions.py:2619: FutureWarning: `distplot` is a deprecated function and will be removed in a future version. Please adapt your code to use either `displot` (a figure-level function with similar flexibility) or `histplot` (an axes-level function for histograms).\n",
            "  warnings.warn(msg, FutureWarning)\n"
          ]
        },
        {
          "output_type": "execute_result",
          "data": {
            "text/plain": [
              "<matplotlib.axes._subplots.AxesSubplot at 0x7f259238fb90>"
            ]
          },
          "metadata": {},
          "execution_count": 27
        },
        {
          "output_type": "display_data",
          "data": {
            "text/plain": [
              "<Figure size 432x288 with 1 Axes>"
            ],
            "image/png": "[encoded data removed]"
          },
          "metadata": {
            "needs_background": "light"
          }
        }
      ],
      "source": [
        "#visualising by density plot\n",
        "\n",
        "sns.distplot(sqrt_Length_Service, hist = True)"
      ]
    },
    {
      "cell_type": "code",
      "execution_count": null,
      "metadata": {
        "colab": {
          "base_uri": "https://localhost:8080/"
        },
        "id": "AtivbSOMVUQR",
        "outputId": "66da054a-13fe-4a9d-daeb-40629aadd333"
      },
      "outputs": [
        {
          "output_type": "execute_result",
          "data": {
            "text/plain": [
              "<matplotlib.axes._subplots.AxesSubplot at 0x7f2592225710>"
            ]
          },
          "metadata": {},
          "execution_count": 28
        },
        {
          "output_type": "display_data",
          "data": {
            "text/plain": [
              "<Figure size 432x288 with 1 Axes>"
            ],
            "image/png": "[encoded data removed]"
          },
          "metadata": {
            "needs_background": "light"
          }
        }
      ],
      "source": [
        "# Melihat distribusi data pada atributes Absent_Hours / Lamanya karyawan melakukan absen kerja selama 1 tahun\n",
        "\n",
        "sns.boxplot(x='Absent_Hours', data=df)"
      ]
    },
    {
      "cell_type": "code",
      "execution_count": null,
      "metadata": {
        "colab": {
          "base_uri": "https://localhost:8080/"
        },
        "id": "Cv9vYB2GJcUP",
        "outputId": "fb4e767d-a416-4c11-a544-7d3834e8645e"
      },
      "outputs": [
        {
          "output_type": "stream",
          "name": "stdout",
          "text": [
            "0.0\n",
            "147.762264155\n"
          ]
        }
      ],
      "source": [
        "print(df['Absent_Hours'].quantile(0.10))\n",
        "print(df['Absent_Hours'].quantile(0.95))\n"
      ]
    },
    {
      "cell_type": "code",
      "execution_count": null,
      "metadata": {
        "colab": {
          "base_uri": "https://localhost:8080/"
        },
        "id": "Te5of6odDEmb",
        "outputId": "1a9ea674-f10c-4aae-b469-d72a417507c2"
      },
      "outputs": [
        {
          "output_type": "stream",
          "name": "stdout",
          "text": [
            "0.13969465108499193\n"
          ]
        }
      ],
      "source": [
        "df[\"Absent_Hours\"] = np.where(df[\"Absent_Hours\"] <0.0, 0.0,df['Absent_Hours'])\n",
        "df[\"Absent_Hours\"] = np.where(df[\"Absent_Hours\"] >126.87121933, 126.87121933, df['Absent_Hours'])\n",
        "print(df['Absent_Hours'].skew())"
      ]
    },
    {
      "cell_type": "code",
      "execution_count": null,
      "metadata": {
        "colab": {
          "base_uri": "https://localhost:8080/"
        },
        "id": "6VTUEJhzJ3r6",
        "outputId": "57f3c99b-3209-47fc-a451-a8bdf90a9999"
      },
      "outputs": [
        {
          "output_type": "stream",
          "name": "stderr",
          "text": [
            "/usr/local/lib/python3.7/dist-packages/seaborn/_decorators.py:43: FutureWarning: Pass the following variable as a keyword arg: x. From version 0.12, the only valid positional argument will be `data`, and passing other arguments without an explicit keyword will result in an error or misinterpretation.\n",
            "  FutureWarning\n"
          ]
        },
        {
          "output_type": "execute_result",
          "data": {
            "text/plain": [
              "<matplotlib.axes._subplots.AxesSubplot at 0x7f25921a3110>"
            ]
          },
          "metadata": {},
          "execution_count": 31
        },
        {
          "output_type": "display_data",
          "data": {
            "text/plain": [
              "<Figure size 432x288 with 1 Axes>"
            ],
            "image/png": "[encoded data removed]"
          },
          "metadata": {
            "needs_background": "light"
          }
        }
      ],
      "source": [
        "# Cek ulang distribusi data Absent_Hours\n",
        "\n",
        "sns.boxplot(df['Absent_Hours'])"
      ]
    },
    {
      "cell_type": "code",
      "execution_count": null,
      "metadata": {
        "colab": {
          "base_uri": "https://localhost:8080/"
        },
        "id": "S-HX5cNgFnwq",
        "outputId": "982b93bf-a680-486f-f623-a6d3e00f852d"
      },
      "outputs": [
        {
          "output_type": "execute_result",
          "data": {
            "text/plain": [
              "<matplotlib.axes._subplots.AxesSubplot at 0x7f2592185ad0>"
            ]
          },
          "metadata": {},
          "execution_count": 32
        },
        {
          "output_type": "display_data",
          "data": {
            "text/plain": [
              "<Figure size 432x288 with 1 Axes>"
            ],
            "image/png": "[encoded data removed]"
          },
          "metadata": {
            "needs_background": "light"
          }
        }
      ],
      "source": [
        "# Melihat korelasi antar variabel Length_Service\n",
        "# Hasil diagram di bawah menunjukkan kedua variabel tersebut berkorelasi\n",
        "\n",
        "sns.scatterplot(data=df, x='Length_Service',y='Absent_Hours')"
      ]
    },
    {
      "cell_type": "code",
      "execution_count": null,
      "metadata": {
        "colab": {
          "base_uri": "https://localhost:8080/"
        },
        "id": "3BgbS05Qp4S9",
        "outputId": "41cf6620-6cfd-4903-e216-04b69647eb54"
      },
      "outputs": [
        {
          "output_type": "execute_result",
          "data": {
            "text/plain": [
              "<matplotlib.axes._subplots.AxesSubplot at 0x7f2592102390>"
            ]
          },
          "metadata": {},
          "execution_count": 33
        },
        {
          "output_type": "display_data",
          "data": {
            "text/plain": [
              "<Figure size 432x288 with 1 Axes>"
            ],
            "image/png": "[encoded data removed]"
          },
          "metadata": {
            "needs_background": "light"
          }
        }
      ],
      "source": [
        "# Melihat korelasi antar variabel Age\n",
        "# Hasil diagram di bawah menunjukkan kedua variabel tersebut berkorelasi positif\n",
        "\n",
        "sns.scatterplot(data=df, x='Age',y='Absent_Hours')"
      ]
    },
    {
      "cell_type": "code",
      "execution_count": null,
      "metadata": {
        "colab": {
          "base_uri": "https://localhost:8080/"
        },
        "id": "XDGZ5A65deWu",
        "outputId": "00618f6c-b093-41b1-8aa9-79c55ad1b4ad"
      },
      "outputs": [
        {
          "output_type": "execute_result",
          "data": {
            "text/plain": [
              "<matplotlib.axes._subplots.AxesSubplot at 0x7f25925235d0>"
            ]
          },
          "metadata": {},
          "execution_count": 34
        },
        {
          "output_type": "display_data",
          "data": {
            "text/plain": [
              "<Figure size 720x720 with 2 Axes>"
            ],
            "image/png": "[encoded data removed]"
          },
          "metadata": {
            "needs_background": "light"
          }
        }
      ],
      "source": [
        "# Mengetahui nilai korelasi antar variabel\n",
        "\n",
        "colormap = plt.cm.RdBu\n",
        "plt.figure(figsize=(10,10))\n",
        "plt.title('Correlation of Features', y=1.0, size=20)\n",
        "sns.heatmap(df.corr(),linewidths=0.2,vmax=1.0,\n",
        "            square=True, cmap=colormap, linecolor='white', annot=True)"
      ]
    },
    {
      "cell_type": "code",
      "execution_count": null,
      "metadata": {
        "colab": {
          "base_uri": "https://localhost:8080/"
        },
        "id": "CI3qXWiFdnAt",
        "outputId": "6ba7409f-10cf-4af0-fda8-847e09f037e2"
      },
      "outputs": [
        {
          "output_type": "execute_result",
          "data": {
            "text/plain": [
              "Gender                    -0.095210\n",
              "Length_Service            -0.045766\n",
              "Distribution_Centers_Id   -0.011145\n",
              "Latitude                   0.007560\n",
              "Longitude                  0.013169\n",
              "Age                        0.823459\n",
              "Absent_Hours               1.000000\n",
              "Name: Absent_Hours, dtype: float64"
            ]
          },
          "metadata": {},
          "execution_count": 35
        }
      ],
      "source": [
        "# menentukan fitur yang paling berkorelasi dengan Absent_Hours\n",
        "# dari data dibawah dapat dilihat ternyata usia karyawan berkorelasi kuat pada lamanya karyawan melakukan absen selama 1 tahun\n",
        "\n",
        "df.corr()['Absent_Hours'].sort_values()"
      ]
    },
    {
      "cell_type": "markdown",
      "metadata": {
        "id": "puXueK29OiDp"
      },
      "source": [
        "## **Modelling & Evaluation**"
      ]
    },
    {
      "cell_type": "code",
      "execution_count": null,
      "metadata": {
        "colab": {
          "base_uri": "https://localhost:8080/"
        },
        "id": "nIcUTCrA01_V",
        "outputId": "f5bf288a-dde7-4321-c1f7-0cdbd40b446a"
      },
      "outputs": [
        {
          "output_type": "stream",
          "name": "stdout",
          "text": [
            "number of test samples: 1241\n",
            "number of training samples: 7031\n"
          ]
        }
      ],
      "source": [
        "# Split data testing dan training dengan porsi 15:85\n",
        "# Variabel X = Gender, Length_Service, Distribution_Centers_Id, Age\n",
        "# Variabel Y = Absent_Hours\n",
        "\n",
        "X = df.drop(columns = ['Absent_Hours','Latitude','Longitude'], axis = 1)\n",
        "Y = df['Absent_Hours'] / 1000 # di standarisasi\n",
        "\n",
        "X_train, X_test, Y_train, Y_test = train_test_split(X, Y, test_size = 0.15, random_state = 101)\n",
        "\n",
        "print(\"number of test samples:\", X_test.shape[0])\n",
        "print(\"number of training samples:\",X_train.shape[0])"
      ]
    },
    {
      "cell_type": "code",
      "execution_count": null,
      "metadata": {
        "id": "R-wY7OxT5z1u"
      },
      "outputs": [],
      "source": [
        "def model_eval_matrix(model,X_test,Y_test,Y_predict):\n",
        "    r_squared = model.score(X_test, Y_test)\n",
        "    mse = mean_squared_error(Y_predict, Y_test)\n",
        "    rmse = np.sqrt(mse)\n",
        "    mae = mean_absolute_error(Y_predict, Y_test)\n",
        "    return r_squared, mse, rmse, mae"
      ]
    },
    {
      "cell_type": "code",
      "execution_count": null,
      "metadata": {
        "id": "lSgyxrY_77TX"
      },
      "outputs": [],
      "source": [
        "#-- Linear Regession Model --\n",
        "\n",
        "lr_model = LinearRegression()\n",
        "lr_model.fit(X_train, Y_train)\n",
        "Y_predict_lr =lr_model.predict(X_test)"
      ]
    },
    {
      "cell_type": "code",
      "execution_count": null,
      "metadata": {
        "id": "sRpcQjOrQgBa"
      },
      "outputs": [],
      "source": [
        "#-- Lasso Regession Model --\n",
        "\n",
        "lasso_model = Lasso(alpha=0.5)\n",
        "lasso_model.fit(X_train, Y_train)\n",
        "Y_predict_lasso =lasso_model.predict(X_test)"
      ]
    },
    {
      "cell_type": "code",
      "execution_count": null,
      "metadata": {
        "id": "sq27Or6o-CE3"
      },
      "outputs": [],
      "source": [
        "#-- Decision Tree Regession Model --\n",
        "\n",
        "tree_model = DecisionTreeRegressor()\n",
        "tree_model.fit(X_train, Y_train)\n",
        "Y_predict_tree =tree_model.predict(X_test)"
      ]
    },
    {
      "cell_type": "code",
      "execution_count": null,
      "metadata": {
        "id": "JkN2c4rjL5Ug"
      },
      "outputs": [],
      "source": [
        "#-- Random Forest Regession Model --\n",
        "\n",
        "rf_model = RandomForestRegressor(n_estimators=100, random_state=1)\n",
        "rf_model.fit(X_train, Y_train)\n",
        "Y_predict_rf = rf_model.predict(X_test)"
      ]
    },
    {
      "cell_type": "code",
      "execution_count": null,
      "metadata": {
        "id": "VFAA5Zhw4dVm"
      },
      "outputs": [],
      "source": [
        "#-- Gradient Boosting Regession Model --\n",
        "\n",
        "xgb_model = GradientBoostingRegressor(n_estimators=1000, random_state=1)\n",
        "xgb_model.fit(X_train, Y_train)\n",
        "Y_predict_xgb = xgb_model.predict(X_test)"
      ]
    },
    {
      "cell_type": "code",
      "execution_count": null,
      "metadata": {
        "colab": {
          "base_uri": "https://localhost:8080/"
        },
        "id": "75B___0D_5qO",
        "outputId": "afdf5403-5b50-4a68-a599-3e177ae04cbc"
      },
      "outputs": [
        {
          "output_type": "execute_result",
          "data": {
            "text/plain": [
              "               Model  R-Squared  MeanSquaredError  RootMeanSquaredError  \\\n",
              "0  Linear Regression   0.710544          0.000538              0.023199   \n",
              "1    Lasso Regession  -0.000211          0.001860              0.043125   \n",
              "2      Decision Tree   0.462440          0.001000              0.031615   \n",
              "3      Random Forest   0.706298          0.000546              0.023369   \n",
              "4      GradientBoost   0.725741          0.000510              0.022582   \n",
              "\n",
              "   MeanAbsoluteError  \n",
              "0           0.018569  \n",
              "1           0.037270  \n",
              "2           0.023137  \n",
              "3           0.017577  \n",
              "4           0.017235  "
            ],
            "text/html": [
              "\n",
              "  <div id=\"df-caaee5f7-2b9a-428a-9a9b-665bc347e86b\">\n",
              "    <div class=\"colab-df-container\">\n",
              "      <div>\n",
              "<style scoped>\n",
              "    .dataframe tbody tr th:only-of-type {\n",
              "        vertical-align: middle;\n",
              "    }\n",
              "\n",
              "    .dataframe tbody tr th {\n",
              "        vertical-align: top;\n",
              "    }\n",
              "\n",
              "    .dataframe thead th {\n",
              "        text-align: right;\n",
              "    }\n",
              "</style>\n",
              "<table border=\"1\" class=\"dataframe\">\n",
              "  <thead>\n",
              "    <tr style=\"text-align: right;\">\n",
              "      <th></th>\n",
              "      <th>Model</th>\n",
              "      <th>R-Squared</th>\n",
              "      <th>MeanSquaredError</th>\n",
              "      <th>RootMeanSquaredError</th>\n",
              "      <th>MeanAbsoluteError</th>\n",
              "    </tr>\n",
              "  </thead>\n",
              "  <tbody>\n",
              "    <tr>\n",
              "      <th>0</th>\n",
              "      <td>Linear Regression</td>\n",
              "      <td>0.710544</td>\n",
              "      <td>0.000538</td>\n",
              "      <td>0.023199</td>\n",
              "      <td>0.018569</td>\n",
              "    </tr>\n",
              "    <tr>\n",
              "      <th>1</th>\n",
              "      <td>Lasso Regession</td>\n",
              "      <td>-0.000211</td>\n",
              "      <td>0.001860</td>\n",
              "      <td>0.043125</td>\n",
              "      <td>0.037270</td>\n",
              "    </tr>\n",
              "    <tr>\n",
              "      <th>2</th>\n",
              "      <td>Decision Tree</td>\n",
              "      <td>0.462440</td>\n",
              "      <td>0.001000</td>\n",
              "      <td>0.031615</td>\n",
              "      <td>0.023137</td>\n",
              "    </tr>\n",
              "    <tr>\n",
              "      <th>3</th>\n",
              "      <td>Random Forest</td>\n",
              "      <td>0.706298</td>\n",
              "      <td>0.000546</td>\n",
              "      <td>0.023369</td>\n",
              "      <td>0.017577</td>\n",
              "    </tr>\n",
              "    <tr>\n",
              "      <th>4</th>\n",
              "      <td>GradientBoost</td>\n",
              "      <td>0.725741</td>\n",
              "      <td>0.000510</td>\n",
              "      <td>0.022582</td>\n",
              "      <td>0.017235</td>\n",
              "    </tr>\n",
              "  </tbody>\n",
              "</table>\n",
              "</div>\n",
              "      <button class=\"colab-df-convert\" onclick=\"convertToInteractive('df-caaee5f7-2b9a-428a-9a9b-665bc347e86b')\"\n",
              "              title=\"Convert this dataframe to an interactive table.\"\n",
              "              style=\"display:none;\">\n",
              "        \n",
              "  <svg xmlns=\"http://www.w3.org/2000/svg\" height=\"24px\"viewBox=\"0 0 24 24\"\n",
              "       width=\"24px\">\n",
              "    <path d=\"M0 0h24v24H0V0z\" fill=\"none\"/>\n",
              "    <path d=\"M18.56 5.44l.94 2.06.94-2.06 2.06-.94-2.06-.94-.94-2.06-.94 2.06-2.06.94zm-11 1L8.5 8.5l.94-2.06 2.06-.94-2.06-.94L8.5 2.5l-.94 2.06-2.06.94zm10 10l.94 2.06.94-2.06 2.06-.94-2.06-.94-.94-2.06-.94 2.06-2.06.94z\"/><path d=\"M17.41 7.96l-1.37-1.37c-.4-.4-.92-.59-1.43-.59-.52 0-1.04.2-1.43.59L10.3 9.45l-7.72 7.72c-.78.78-.78 2.05 0 2.83L4 21.41c.39.39.9.59 1.41.59.51 0 1.02-.2 1.41-.59l7.78-7.78 2.81-2.81c.8-.78.8-2.07 0-2.86zM5.41 20L4 18.59l7.72-7.72 1.47 1.35L5.41 20z\"/>\n",
              "  </svg>\n",
              "      </button>\n",
              "      \n",
              "  <style>\n",
              "    .colab-df-container {\n",
              "      display:flex;\n",
              "      flex-wrap:wrap;\n",
              "      gap: 12px;\n",
              "    }\n",
              "\n",
              "    .colab-df-convert {\n",
              "      background-color: #E8F0FE;\n",
              "      border: none;\n",
              "      border-radius: 50%;\n",
              "      cursor: pointer;\n",
              "      display: none;\n",
              "      fill: #1967D2;\n",
              "      height: 32px;\n",
              "      padding: 0 0 0 0;\n",
              "      width: 32px;\n",
              "    }\n",
              "\n",
              "    .colab-df-convert:hover {\n",
              "      background-color: #E2EBFA;\n",
              "      box-shadow: 0px 1px 2px rgba(60, 64, 67, 0.3), 0px 1px 3px 1px rgba(60, 64, 67, 0.15);\n",
              "      fill: #174EA6;\n",
              "    }\n",
              "\n",
              "    [theme=dark] .colab-df-convert {\n",
              "      background-color: #3B4455;\n",
              "      fill: #D2E3FC;\n",
              "    }\n",
              "\n",
              "    [theme=dark] .colab-df-convert:hover {\n",
              "      background-color: #434B5C;\n",
              "      box-shadow: 0px 1px 3px 1px rgba(0, 0, 0, 0.15);\n",
              "      filter: drop-shadow(0px 1px 2px rgba(0, 0, 0, 0.3));\n",
              "      fill: #FFFFFF;\n",
              "    }\n",
              "  </style>\n",
              "\n",
              "      <script>\n",
              "        const buttonEl =\n",
              "          document.querySelector('#df-caaee5f7-2b9a-428a-9a9b-665bc347e86b button.colab-df-convert');\n",
              "        buttonEl.style.display =\n",
              "          google.colab.kernel.accessAllowed ? 'block' : 'none';\n",
              "\n",
              "        async function convertToInteractive(key) {\n",
              "          const element = document.querySelector('#df-caaee5f7-2b9a-428a-9a9b-665bc347e86b');\n",
              "          const dataTable =\n",
              "            await google.colab.kernel.invokeFunction('convertToInteractive',\n",
              "                                                     [key], {});\n",
              "          if (!dataTable) return;\n",
              "\n",
              "          const docLinkHtml = 'Like what you see? Visit the ' +\n",
              "            '<a target=\"_blank\" href=https://colab.research.google.com/notebooks/data_table.ipynb>data table notebook</a>'\n",
              "            + ' to learn more about interactive tables.';\n",
              "          element.innerHTML = '';\n",
              "          dataTable['output_type'] = 'display_data';\n",
              "          await google.colab.output.renderOutput(dataTable, element);\n",
              "          const docLink = document.createElement('div');\n",
              "          docLink.innerHTML = docLinkHtml;\n",
              "          element.appendChild(docLink);\n",
              "        }\n",
              "      </script>\n",
              "    </div>\n",
              "  </div>\n",
              "  "
            ]
          },
          "metadata": {},
          "execution_count": 43
        }
      ],
      "source": [
        "#---Stroring all model performances in dataframe to compare----\n",
        "\n",
        "metric=[]\n",
        "ml_models=['Linear Regression', 'Lasso Regession', 'Decision Tree', 'Random Forest', 'GradientBoost']\n",
        "fitted_models= [lr_model, lasso_model, tree_model, rf_model, xgb_model]\n",
        "Y_Predict =[Y_predict_lr, Y_predict_lasso, Y_predict_tree, Y_predict_rf, Y_predict_xgb]\n",
        "i=0\n",
        "for mod in ml_models:\n",
        "    R_SQR,MSE,RMSE,MAE = model_eval_matrix(fitted_models[i],X_test,Y_test,Y_Predict[i])\n",
        "    metric.append([mod,R_SQR,MSE,RMSE,MAE])\n",
        "    i=i+1\n",
        "df_mod_performance=pd.DataFrame(metric,columns =\n",
        "                  ['Model','R-Squared','MeanSquaredError','RootMeanSquaredError','MeanAbsoluteError'])\n",
        "df_mod_performance[['Model','R-Squared','MeanSquaredError','RootMeanSquaredError','MeanAbsoluteError']]"
      ]
    },
    {
      "cell_type": "code",
      "execution_count": null,
      "metadata": {
        "colab": {
          "base_uri": "https://localhost:8080/"
        },
        "id": "HswRFw_Tx66u",
        "outputId": "b42a79e0-fc8d-4cfb-ed26-fcd4f9824e14"
      },
      "outputs": [
        {
          "output_type": "stream",
          "name": "stderr",
          "text": [
            "/usr/local/lib/python3.7/dist-packages/seaborn/categorical.py:3717: UserWarning: The `factorplot` function has been renamed to `catplot`. The original name will be removed in a future release. Please update your code. Note that the default `kind` in `factorplot` (`'point'`) has changed `'strip'` in `catplot`.\n",
            "  warnings.warn(msg)\n",
            "/usr/local/lib/python3.7/dist-packages/seaborn/categorical.py:3723: UserWarning: The `size` parameter has been renamed to `height`; please update your code.\n",
            "  warnings.warn(msg, UserWarning)\n"
          ]
        },
        {
          "output_type": "execute_result",
          "data": {
            "text/plain": [
              "<seaborn.axisgrid.FacetGrid at 0x7f258df089d0>"
            ]
          },
          "metadata": {},
          "execution_count": 44
        },
        {
          "output_type": "display_data",
          "data": {
            "text/plain": [
              "<Figure size 864x288 with 1 Axes>"
            ],
            "image/png": "[encoded data removed]"
          },
          "metadata": {
            "needs_background": "light"
          }
        }
      ],
      "source": [
        "sns.factorplot(y='Model',x='RootMeanSquaredError',data=df_mod_performance,kind='bar',size=4,aspect=3)"
      ]
    },
    {
      "cell_type": "code",
      "execution_count": null,
      "metadata": {
        "colab": {
          "base_uri": "https://localhost:8080/"
        },
        "id": "tEIhQLXaId55",
        "outputId": "76774889-96aa-4b50-b651-325dd9ad2a23"
      },
      "outputs": [
        {
          "output_type": "stream",
          "name": "stderr",
          "text": [
            "/usr/local/lib/python3.7/dist-packages/seaborn/categorical.py:3717: UserWarning: The `factorplot` function has been renamed to `catplot`. The original name will be removed in a future release. Please update your code. Note that the default `kind` in `factorplot` (`'point'`) has changed `'strip'` in `catplot`.\n",
            "  warnings.warn(msg)\n",
            "/usr/local/lib/python3.7/dist-packages/seaborn/categorical.py:3723: UserWarning: The `size` parameter has been renamed to `height`; please update your code.\n",
            "  warnings.warn(msg, UserWarning)\n"
          ]
        },
        {
          "output_type": "execute_result",
          "data": {
            "text/plain": [
              "<seaborn.axisgrid.FacetGrid at 0x7f258de31ed0>"
            ]
          },
          "metadata": {},
          "execution_count": 45
        },
        {
          "output_type": "display_data",
          "data": {
            "text/plain": [
              "<Figure size 720x360 with 1 Axes>"
            ],
            "image/png": "[encoded data removed]"
          },
          "metadata": {
            "needs_background": "light"
          }
        }
      ],
      "source": [
        "sns.factorplot(x='Model',y='R-Squared',data=df_mod_performance,kind='point',size=5,aspect=2)"
      ]
    },
    {
      "cell_type": "code",
      "execution_count": null,
      "metadata": {
        "colab": {
          "base_uri": "https://localhost:8080/"
        },
        "id": "CrMUX6JVpfJz",
        "outputId": "1e9e30f3-a987-4888-fe1a-16c9680b7cdf"
      },
      "outputs": [
        {
          "output_type": "execute_result",
          "data": {
            "text/plain": [
              "            Age  Length_Service  Distribution_Centers_Id  Gender  \\\n",
              "594   55.865555        4.712703                        8       0   \n",
              "5729  40.249000        3.940640                        9       1   \n",
              "6871  36.101604        6.509524                        4       1   \n",
              "4088  34.786955        5.994043                       10       0   \n",
              "7428  42.945666        3.673088                       10       1   \n",
              "...         ...             ...                      ...     ...   \n",
              "6108  34.442195        3.146910                        2       1   \n",
              "3491  43.788678        4.940511                        8       0   \n",
              "4105  35.482551        5.445041                        1       0   \n",
              "3672  36.765000        5.330382                        6       1   \n",
              "5307  40.968227        4.558672                        1       1   \n",
              "\n",
              "      Absent_Hours  Predicted_Absent_Hours  \n",
              "594     126.871219              120.609421  \n",
              "5729    123.288910               37.514765  \n",
              "6871     55.467001               27.332847  \n",
              "4088     16.526338               13.512383  \n",
              "7428     66.206338               72.427154  \n",
              "...            ...                     ...  \n",
              "6108     15.514787               24.167057  \n",
              "3491    124.723270               80.942578  \n",
              "4105     25.774759               38.454588  \n",
              "3672     44.389627               27.838095  \n",
              "5307     55.731785               45.490234  \n",
              "\n",
              "[1241 rows x 6 columns]"
            ],
            "text/html": [
              "\n",
              "  <div id=\"df-79591df6-45db-47f6-a9f5-edfeaada0a75\">\n",
              "    <div class=\"colab-df-container\">\n",
              "      <div>\n",
              "<style scoped>\n",
              "    .dataframe tbody tr th:only-of-type {\n",
              "        vertical-align: middle;\n",
              "    }\n",
              "\n",
              "    .dataframe tbody tr th {\n",
              "        vertical-align: top;\n",
              "    }\n",
              "\n",
              "    .dataframe thead th {\n",
              "        text-align: right;\n",
              "    }\n",
              "</style>\n",
              "<table border=\"1\" class=\"dataframe\">\n",
              "  <thead>\n",
              "    <tr style=\"text-align: right;\">\n",
              "      <th></th>\n",
              "      <th>Age</th>\n",
              "      <th>Length_Service</th>\n",
              "      <th>Distribution_Centers_Id</th>\n",
              "      <th>Gender</th>\n",
              "      <th>Absent_Hours</th>\n",
              "      <th>Predicted_Absent_Hours</th>\n",
              "    </tr>\n",
              "  </thead>\n",
              "  <tbody>\n",
              "    <tr>\n",
              "      <th>594</th>\n",
              "      <td>55.865555</td>\n",
              "      <td>4.712703</td>\n",
              "      <td>8</td>\n",
              "      <td>0</td>\n",
              "      <td>126.871219</td>\n",
              "      <td>120.609421</td>\n",
              "    </tr>\n",
              "    <tr>\n",
              "      <th>5729</th>\n",
              "      <td>40.249000</td>\n",
              "      <td>3.940640</td>\n",
              "      <td>9</td>\n",
              "      <td>1</td>\n",
              "      <td>123.288910</td>\n",
              "      <td>37.514765</td>\n",
              "    </tr>\n",
              "    <tr>\n",
              "      <th>6871</th>\n",
              "      <td>36.101604</td>\n",
              "      <td>6.509524</td>\n",
              "      <td>4</td>\n",
              "      <td>1</td>\n",
              "      <td>55.467001</td>\n",
              "      <td>27.332847</td>\n",
              "    </tr>\n",
              "    <tr>\n",
              "      <th>4088</th>\n",
              "      <td>34.786955</td>\n",
              "      <td>5.994043</td>\n",
              "      <td>10</td>\n",
              "      <td>0</td>\n",
              "      <td>16.526338</td>\n",
              "      <td>13.512383</td>\n",
              "    </tr>\n",
              "    <tr>\n",
              "      <th>7428</th>\n",
              "      <td>42.945666</td>\n",
              "      <td>3.673088</td>\n",
              "      <td>10</td>\n",
              "      <td>1</td>\n",
              "      <td>66.206338</td>\n",
              "      <td>72.427154</td>\n",
              "    </tr>\n",
              "    <tr>\n",
              "      <th>...</th>\n",
              "      <td>...</td>\n",
              "      <td>...</td>\n",
              "      <td>...</td>\n",
              "      <td>...</td>\n",
              "      <td>...</td>\n",
              "      <td>...</td>\n",
              "    </tr>\n",
              "    <tr>\n",
              "      <th>6108</th>\n",
              "      <td>34.442195</td>\n",
              "      <td>3.146910</td>\n",
              "      <td>2</td>\n",
              "      <td>1</td>\n",
              "      <td>15.514787</td>\n",
              "      <td>24.167057</td>\n",
              "    </tr>\n",
              "    <tr>\n",
              "      <th>3491</th>\n",
              "      <td>43.788678</td>\n",
              "      <td>4.940511</td>\n",
              "      <td>8</td>\n",
              "      <td>0</td>\n",
              "      <td>124.723270</td>\n",
              "      <td>80.942578</td>\n",
              "    </tr>\n",
              "    <tr>\n",
              "      <th>4105</th>\n",
              "      <td>35.482551</td>\n",
              "      <td>5.445041</td>\n",
              "      <td>1</td>\n",
              "      <td>0</td>\n",
              "      <td>25.774759</td>\n",
              "      <td>38.454588</td>\n",
              "    </tr>\n",
              "    <tr>\n",
              "      <th>3672</th>\n",
              "      <td>36.765000</td>\n",
              "      <td>5.330382</td>\n",
              "      <td>6</td>\n",
              "      <td>1</td>\n",
              "      <td>44.389627</td>\n",
              "      <td>27.838095</td>\n",
              "    </tr>\n",
              "    <tr>\n",
              "      <th>5307</th>\n",
              "      <td>40.968227</td>\n",
              "      <td>4.558672</td>\n",
              "      <td>1</td>\n",
              "      <td>1</td>\n",
              "      <td>55.731785</td>\n",
              "      <td>45.490234</td>\n",
              "    </tr>\n",
              "  </tbody>\n",
              "</table>\n",
              "<p>1241 rows × 6 columns</p>\n",
              "</div>\n",
              "      <button class=\"colab-df-convert\" onclick=\"convertToInteractive('df-79591df6-45db-47f6-a9f5-edfeaada0a75')\"\n",
              "              title=\"Convert this dataframe to an interactive table.\"\n",
              "              style=\"display:none;\">\n",
              "        \n",
              "  <svg xmlns=\"http://www.w3.org/2000/svg\" height=\"24px\"viewBox=\"0 0 24 24\"\n",
              "       width=\"24px\">\n",
              "    <path d=\"M0 0h24v24H0V0z\" fill=\"none\"/>\n",
              "    <path d=\"M18.56 5.44l.94 2.06.94-2.06 2.06-.94-2.06-.94-.94-2.06-.94 2.06-2.06.94zm-11 1L8.5 8.5l.94-2.06 2.06-.94-2.06-.94L8.5 2.5l-.94 2.06-2.06.94zm10 10l.94 2.06.94-2.06 2.06-.94-2.06-.94-.94-2.06-.94 2.06-2.06.94z\"/><path d=\"M17.41 7.96l-1.37-1.37c-.4-.4-.92-.59-1.43-.59-.52 0-1.04.2-1.43.59L10.3 9.45l-7.72 7.72c-.78.78-.78 2.05 0 2.83L4 21.41c.39.39.9.59 1.41.59.51 0 1.02-.2 1.41-.59l7.78-7.78 2.81-2.81c.8-.78.8-2.07 0-2.86zM5.41 20L4 18.59l7.72-7.72 1.47 1.35L5.41 20z\"/>\n",
              "  </svg>\n",
              "      </button>\n",
              "      \n",
              "  <style>\n",
              "    .colab-df-container {\n",
              "      display:flex;\n",
              "      flex-wrap:wrap;\n",
              "      gap: 12px;\n",
              "    }\n",
              "\n",
              "    .colab-df-convert {\n",
              "      background-color: #E8F0FE;\n",
              "      border: none;\n",
              "      border-radius: 50%;\n",
              "      cursor: pointer;\n",
              "      display: none;\n",
              "      fill: #1967D2;\n",
              "      height: 32px;\n",
              "      padding: 0 0 0 0;\n",
              "      width: 32px;\n",
              "    }\n",
              "\n",
              "    .colab-df-convert:hover {\n",
              "      background-color: #E2EBFA;\n",
              "      box-shadow: 0px 1px 2px rgba(60, 64, 67, 0.3), 0px 1px 3px 1px rgba(60, 64, 67, 0.15);\n",
              "      fill: #174EA6;\n",
              "    }\n",
              "\n",
              "    [theme=dark] .colab-df-convert {\n",
              "      background-color: #3B4455;\n",
              "      fill: #D2E3FC;\n",
              "    }\n",
              "\n",
              "    [theme=dark] .colab-df-convert:hover {\n",
              "      background-color: #434B5C;\n",
              "      box-shadow: 0px 1px 3px 1px rgba(0, 0, 0, 0.15);\n",
              "      filter: drop-shadow(0px 1px 2px rgba(0, 0, 0, 0.3));\n",
              "      fill: #FFFFFF;\n",
              "    }\n",
              "  </style>\n",
              "\n",
              "      <script>\n",
              "        const buttonEl =\n",
              "          document.querySelector('#df-79591df6-45db-47f6-a9f5-edfeaada0a75 button.colab-df-convert');\n",
              "        buttonEl.style.display =\n",
              "          google.colab.kernel.accessAllowed ? 'block' : 'none';\n",
              "\n",
              "        async function convertToInteractive(key) {\n",
              "          const element = document.querySelector('#df-79591df6-45db-47f6-a9f5-edfeaada0a75');\n",
              "          const dataTable =\n",
              "            await google.colab.kernel.invokeFunction('convertToInteractive',\n",
              "                                                     [key], {});\n",
              "          if (!dataTable) return;\n",
              "\n",
              "          const docLinkHtml = 'Like what you see? Visit the ' +\n",
              "            '<a target=\"_blank\" href=https://colab.research.google.com/notebooks/data_table.ipynb>data table notebook</a>'\n",
              "            + ' to learn more about interactive tables.';\n",
              "          element.innerHTML = '';\n",
              "          dataTable['output_type'] = 'display_data';\n",
              "          await google.colab.output.renderOutput(dataTable, element);\n",
              "          const docLink = document.createElement('div');\n",
              "          docLink.innerHTML = docLinkHtml;\n",
              "          element.appendChild(docLink);\n",
              "        }\n",
              "      </script>\n",
              "    </div>\n",
              "  </div>\n",
              "  "
            ]
          },
          "metadata": {},
          "execution_count": 46
        }
      ],
      "source": [
        "# Fix Model menggunakan algoritma Gradient Boost\n",
        "\n",
        "absence_prediction = X_test\n",
        "absence_prediction['Absent_Hours'] = 1000*Y_test\n",
        "absence_prediction['Predicted_Absent_Hours'] = 1000*Y_predict_xgb\n",
        "\n",
        "absence_prediction"
      ]
    },
    {
      "cell_type": "code",
      "source": [
        "absence_prediction.describe()"
      ],
      "metadata": {
        "colab": {
          "base_uri": "https://localhost:8080/"
        },
        "id": "yNgGNi3J_VDc",
        "outputId": "d23ee7b3-d528-44ec-f60c-e4e49e264446"
      },
      "execution_count": null,
      "outputs": [
        {
          "output_type": "execute_result",
          "data": {
            "text/plain": [
              "               Age  Length_Service  Distribution_Centers_Id       Gender  \\\n",
              "count  1241.000000     1241.000000              1241.000000  1241.000000   \n",
              "mean     42.281480        4.749070                 5.485093     0.518936   \n",
              "std       9.784751        2.282249                 2.892980     0.499843   \n",
              "min      15.664847        0.227226                 1.000000     0.000000   \n",
              "25%      35.626371        3.612551                 3.000000     0.000000   \n",
              "50%      42.178440        4.503905                 6.000000     1.000000   \n",
              "75%      48.589444        5.588465                 8.000000     1.000000   \n",
              "max      68.380954       32.350609                10.000000     1.000000   \n",
              "\n",
              "       Absent_Hours  Predicted_Absent_Hours  \n",
              "count   1241.000000             1241.000000  \n",
              "mean      58.837267               58.826009  \n",
              "std       43.137852               37.688430  \n",
              "min        0.000000              -19.840939  \n",
              "25%       20.126008               25.494861  \n",
              "50%       56.502379               58.494703  \n",
              "75%       96.613241               88.218195  \n",
              "max      126.871219              144.005505  "
            ],
            "text/html": [
              "\n",
              "  <div id=\"df-a3b7b9e8-d43e-4e81-8841-c321f7a30e43\">\n",
              "    <div class=\"colab-df-container\">\n",
              "      <div>\n",
              "<style scoped>\n",
              "    .dataframe tbody tr th:only-of-type {\n",
              "        vertical-align: middle;\n",
              "    }\n",
              "\n",
              "    .dataframe tbody tr th {\n",
              "        vertical-align: top;\n",
              "    }\n",
              "\n",
              "    .dataframe thead th {\n",
              "        text-align: right;\n",
              "    }\n",
              "</style>\n",
              "<table border=\"1\" class=\"dataframe\">\n",
              "  <thead>\n",
              "    <tr style=\"text-align: right;\">\n",
              "      <th></th>\n",
              "      <th>Age</th>\n",
              "      <th>Length_Service</th>\n",
              "      <th>Distribution_Centers_Id</th>\n",
              "      <th>Gender</th>\n",
              "      <th>Absent_Hours</th>\n",
              "      <th>Predicted_Absent_Hours</th>\n",
              "    </tr>\n",
              "  </thead>\n",
              "  <tbody>\n",
              "    <tr>\n",
              "      <th>count</th>\n",
              "      <td>1241.000000</td>\n",
              "      <td>1241.000000</td>\n",
              "      <td>1241.000000</td>\n",
              "      <td>1241.000000</td>\n",
              "      <td>1241.000000</td>\n",
              "      <td>1241.000000</td>\n",
              "    </tr>\n",
              "    <tr>\n",
              "      <th>mean</th>\n",
              "      <td>42.281480</td>\n",
              "      <td>4.749070</td>\n",
              "      <td>5.485093</td>\n",
              "      <td>0.518936</td>\n",
              "      <td>58.837267</td>\n",
              "      <td>58.826009</td>\n",
              "    </tr>\n",
              "    <tr>\n",
              "      <th>std</th>\n",
              "      <td>9.784751</td>\n",
              "      <td>2.282249</td>\n",
              "      <td>2.892980</td>\n",
              "      <td>0.499843</td>\n",
              "      <td>43.137852</td>\n",
              "      <td>37.688430</td>\n",
              "    </tr>\n",
              "    <tr>\n",
              "      <th>min</th>\n",
              "      <td>15.664847</td>\n",
              "      <td>0.227226</td>\n",
              "      <td>1.000000</td>\n",
              "      <td>0.000000</td>\n",
              "      <td>0.000000</td>\n",
              "      <td>-19.840939</td>\n",
              "    </tr>\n",
              "    <tr>\n",
              "      <th>25%</th>\n",
              "      <td>35.626371</td>\n",
              "      <td>3.612551</td>\n",
              "      <td>3.000000</td>\n",
              "      <td>0.000000</td>\n",
              "      <td>20.126008</td>\n",
              "      <td>25.494861</td>\n",
              "    </tr>\n",
              "    <tr>\n",
              "      <th>50%</th>\n",
              "      <td>42.178440</td>\n",
              "      <td>4.503905</td>\n",
              "      <td>6.000000</td>\n",
              "      <td>1.000000</td>\n",
              "      <td>56.502379</td>\n",
              "      <td>58.494703</td>\n",
              "    </tr>\n",
              "    <tr>\n",
              "      <th>75%</th>\n",
              "      <td>48.589444</td>\n",
              "      <td>5.588465</td>\n",
              "      <td>8.000000</td>\n",
              "      <td>1.000000</td>\n",
              "      <td>96.613241</td>\n",
              "      <td>88.218195</td>\n",
              "    </tr>\n",
              "    <tr>\n",
              "      <th>max</th>\n",
              "      <td>68.380954</td>\n",
              "      <td>32.350609</td>\n",
              "      <td>10.000000</td>\n",
              "      <td>1.000000</td>\n",
              "      <td>126.871219</td>\n",
              "      <td>144.005505</td>\n",
              "    </tr>\n",
              "  </tbody>\n",
              "</table>\n",
              "</div>\n",
              "      <button class=\"colab-df-convert\" onclick=\"convertToInteractive('df-a3b7b9e8-d43e-4e81-8841-c321f7a30e43')\"\n",
              "              title=\"Convert this dataframe to an interactive table.\"\n",
              "              style=\"display:none;\">\n",
              "        \n",
              "  <svg xmlns=\"http://www.w3.org/2000/svg\" height=\"24px\"viewBox=\"0 0 24 24\"\n",
              "       width=\"24px\">\n",
              "    <path d=\"M0 0h24v24H0V0z\" fill=\"none\"/>\n",
              "    <path d=\"M18.56 5.44l.94 2.06.94-2.06 2.06-.94-2.06-.94-.94-2.06-.94 2.06-2.06.94zm-11 1L8.5 8.5l.94-2.06 2.06-.94-2.06-.94L8.5 2.5l-.94 2.06-2.06.94zm10 10l.94 2.06.94-2.06 2.06-.94-2.06-.94-.94-2.06-.94 2.06-2.06.94z\"/><path d=\"M17.41 7.96l-1.37-1.37c-.4-.4-.92-.59-1.43-.59-.52 0-1.04.2-1.43.59L10.3 9.45l-7.72 7.72c-.78.78-.78 2.05 0 2.83L4 21.41c.39.39.9.59 1.41.59.51 0 1.02-.2 1.41-.59l7.78-7.78 2.81-2.81c.8-.78.8-2.07 0-2.86zM5.41 20L4 18.59l7.72-7.72 1.47 1.35L5.41 20z\"/>\n",
              "  </svg>\n",
              "      </button>\n",
              "      \n",
              "  <style>\n",
              "    .colab-df-container {\n",
              "      display:flex;\n",
              "      flex-wrap:wrap;\n",
              "      gap: 12px;\n",
              "    }\n",
              "\n",
              "    .colab-df-convert {\n",
              "      background-color: #E8F0FE;\n",
              "      border: none;\n",
              "      border-radius: 50%;\n",
              "      cursor: pointer;\n",
              "      display: none;\n",
              "      fill: #1967D2;\n",
              "      height: 32px;\n",
              "      padding: 0 0 0 0;\n",
              "      width: 32px;\n",
              "    }\n",
              "\n",
              "    .colab-df-convert:hover {\n",
              "      background-color: #E2EBFA;\n",
              "      box-shadow: 0px 1px 2px rgba(60, 64, 67, 0.3), 0px 1px 3px 1px rgba(60, 64, 67, 0.15);\n",
              "      fill: #174EA6;\n",
              "    }\n",
              "\n",
              "    [theme=dark] .colab-df-convert {\n",
              "      background-color: #3B4455;\n",
              "      fill: #D2E3FC;\n",
              "    }\n",
              "\n",
              "    [theme=dark] .colab-df-convert:hover {\n",
              "      background-color: #434B5C;\n",
              "      box-shadow: 0px 1px 3px 1px rgba(0, 0, 0, 0.15);\n",
              "      filter: drop-shadow(0px 1px 2px rgba(0, 0, 0, 0.3));\n",
              "      fill: #FFFFFF;\n",
              "    }\n",
              "  </style>\n",
              "\n",
              "      <script>\n",
              "        const buttonEl =\n",
              "          document.querySelector('#df-a3b7b9e8-d43e-4e81-8841-c321f7a30e43 button.colab-df-convert');\n",
              "        buttonEl.style.display =\n",
              "          google.colab.kernel.accessAllowed ? 'block' : 'none';\n",
              "\n",
              "        async function convertToInteractive(key) {\n",
              "          const element = document.querySelector('#df-a3b7b9e8-d43e-4e81-8841-c321f7a30e43');\n",
              "          const dataTable =\n",
              "            await google.colab.kernel.invokeFunction('convertToInteractive',\n",
              "                                                     [key], {});\n",
              "          if (!dataTable) return;\n",
              "\n",
              "          const docLinkHtml = 'Like what you see? Visit the ' +\n",
              "            '<a target=\"_blank\" href=https://colab.research.google.com/notebooks/data_table.ipynb>data table notebook</a>'\n",
              "            + ' to learn more about interactive tables.';\n",
              "          element.innerHTML = '';\n",
              "          dataTable['output_type'] = 'display_data';\n",
              "          await google.colab.output.renderOutput(dataTable, element);\n",
              "          const docLink = document.createElement('div');\n",
              "          docLink.innerHTML = docLinkHtml;\n",
              "          element.appendChild(docLink);\n",
              "        }\n",
              "      </script>\n",
              "    </div>\n",
              "  </div>\n",
              "  "
            ]
          },
          "metadata": {},
          "execution_count": 47
        }
      ]
    },
    {
      "cell_type": "code",
      "source": [
        "# to save final data format for Tableau\n",
        "\n",
        "absence_prediction.to_excel('final_HR.xls', index=False)"
      ],
      "metadata": {
        "colab": {
          "base_uri": "https://localhost:8080/"
        },
        "id": "nbw-vo1LG257",
        "outputId": "43ec40fc-6b7b-474e-8984-dfba5cf19917"
      },
      "execution_count": null,
      "outputs": [
        {
          "output_type": "stream",
          "name": "stderr",
          "text": [
            "/usr/local/lib/python3.7/dist-packages/ipykernel_launcher.py:3: FutureWarning: As the xlwt package is no longer maintained, the xlwt engine will be removed in a future version of pandas. This is the only engine in pandas that supports writing in the xls format. Install openpyxl and write to an xlsx file instead. You can set the option io.excel.xls.writer to 'xlwt' to silence this warning. While this option is deprecated and will also raise a warning, it can be globally set and the warning suppressed.\n",
            "  This is separate from the ipykernel package so we can avoid doing imports until\n"
          ]
        }
      ]
    }
  ],
  "metadata": {
    "colab": {
      "collapsed_sections": [
        "o4KEvTnoqH8a",
        "aQlqucJ4tY-f"
      ],
      "provenance": [],
      "toc_visible": true,
      "include_colab_link": true
    },
    "kernelspec": {
      "display_name": "Python 3",
      "name": "python3"
    },
    "language_info": {
      "name": "python"
    }
  },
  "nbformat": 4,
  "nbformat_minor": 0
}